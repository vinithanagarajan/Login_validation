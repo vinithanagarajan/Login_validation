{
  "cells": [
    {
      "cell_type": "markdown",
      "metadata": {
        "id": "view-in-github",
        "colab_type": "text"
      },
      "source": [
        "<a href=\"https://colab.research.google.com/github/vinithanagarajan/Login_validation/blob/main/Task2_Numpy.ipynb\" target=\"_parent\"><img src=\"https://colab.research.google.com/assets/colab-badge.svg\" alt=\"Open In Colab\"/></a>"
      ]
    },
    {
      "cell_type": "markdown",
      "metadata": {
        "id": "QjF4reWvD9ao"
      },
      "source": [
        "# Numpy\n",
        "\n"
      ]
    },
    {
      "cell_type": "markdown",
      "metadata": {
        "id": "M5OhHV66D9at"
      },
      "source": [
        "#### 1. Import the numpy package under the name `np` (★☆☆) \n",
        "(**hint**: import … as …)"
      ]
    },
    {
      "cell_type": "code",
      "execution_count": 1,
      "metadata": {
        "collapsed": true,
        "id": "vrpTRDxKD9au"
      },
      "outputs": [],
      "source": [
        "import numpy as np"
      ]
    },
    {
      "cell_type": "markdown",
      "metadata": {
        "id": "UcLRrA8qD9av"
      },
      "source": [
        "#### 2. Print the numpy version and the configuration (★☆☆) \n",
        "(**hint**: np.\\_\\_version\\_\\_, np.show\\_config)"
      ]
    },
    {
      "cell_type": "code",
      "execution_count": null,
      "metadata": {
        "id": "eLDAuhsFD9av",
        "colab": {
          "base_uri": "https://localhost:8080/"
        },
        "outputId": "b289efdf-9aca-4bf7-c7fa-964b75a087a0"
      },
      "outputs": [
        {
          "output_type": "stream",
          "name": "stdout",
          "text": [
            "1.21.6\n"
          ]
        }
      ],
      "source": [
        "print(np.__version__)"
      ]
    },
    {
      "cell_type": "code",
      "source": [
        "print(np.show_config())"
      ],
      "metadata": {
        "colab": {
          "base_uri": "https://localhost:8080/"
        },
        "id": "pd2aQcJ_EdEd",
        "outputId": "e5d46400-d0c1-4ac6-f748-d8d7d5ccbf1b"
      },
      "execution_count": null,
      "outputs": [
        {
          "output_type": "stream",
          "name": "stdout",
          "text": [
            "blas_mkl_info:\n",
            "  NOT AVAILABLE\n",
            "blis_info:\n",
            "  NOT AVAILABLE\n",
            "openblas_info:\n",
            "    libraries = ['openblas', 'openblas']\n",
            "    library_dirs = ['/usr/local/lib']\n",
            "    language = c\n",
            "    define_macros = [('HAVE_CBLAS', None)]\n",
            "    runtime_library_dirs = ['/usr/local/lib']\n",
            "blas_opt_info:\n",
            "    libraries = ['openblas', 'openblas']\n",
            "    library_dirs = ['/usr/local/lib']\n",
            "    language = c\n",
            "    define_macros = [('HAVE_CBLAS', None)]\n",
            "    runtime_library_dirs = ['/usr/local/lib']\n",
            "lapack_mkl_info:\n",
            "  NOT AVAILABLE\n",
            "openblas_lapack_info:\n",
            "    libraries = ['openblas', 'openblas']\n",
            "    library_dirs = ['/usr/local/lib']\n",
            "    language = c\n",
            "    define_macros = [('HAVE_CBLAS', None)]\n",
            "    runtime_library_dirs = ['/usr/local/lib']\n",
            "lapack_opt_info:\n",
            "    libraries = ['openblas', 'openblas']\n",
            "    library_dirs = ['/usr/local/lib']\n",
            "    language = c\n",
            "    define_macros = [('HAVE_CBLAS', None)]\n",
            "    runtime_library_dirs = ['/usr/local/lib']\n",
            "Supported SIMD extensions in this NumPy install:\n",
            "    baseline = SSE,SSE2,SSE3\n",
            "    found = SSSE3,SSE41,POPCNT,SSE42,AVX,F16C,FMA3,AVX2\n",
            "    not found = AVX512F,AVX512CD,AVX512_KNL,AVX512_KNM,AVX512_SKX,AVX512_CLX,AVX512_CNL,AVX512_ICL\n",
            "None\n"
          ]
        }
      ]
    },
    {
      "cell_type": "markdown",
      "metadata": {
        "id": "mpkoksQrD9aw"
      },
      "source": [
        "#### 3. Create a null vector of size 10 (★☆☆) \n",
        "(**hint**: np.zeros)"
      ]
    },
    {
      "cell_type": "code",
      "execution_count": null,
      "metadata": {
        "id": "Mvl8r7byD9aw",
        "colab": {
          "base_uri": "https://localhost:8080/"
        },
        "outputId": "c9cf3bdc-6c17-40c4-91e1-fbde220fe17f"
      },
      "outputs": [
        {
          "output_type": "execute_result",
          "data": {
            "text/plain": [
              "array([0., 0., 0., 0., 0., 0., 0., 0., 0., 0.])"
            ]
          },
          "metadata": {},
          "execution_count": 5
        }
      ],
      "source": [
        "x = np.zeros(10)\n",
        "x"
      ]
    },
    {
      "cell_type": "markdown",
      "metadata": {
        "id": "RauXJs54D9ay"
      },
      "source": [
        "#### 4.  How to find the memory size of any array (★☆☆) \n",
        "(**hint**: size, itemsize)"
      ]
    },
    {
      "cell_type": "code",
      "execution_count": null,
      "metadata": {
        "id": "6kVuAnJKD9a0",
        "colab": {
          "base_uri": "https://localhost:8080/"
        },
        "outputId": "4e688730-ce7f-417a-9d6d-183625511e23"
      },
      "outputs": [
        {
          "output_type": "execute_result",
          "data": {
            "text/plain": [
              "10"
            ]
          },
          "metadata": {},
          "execution_count": 6
        }
      ],
      "source": [
        " x.size"
      ]
    },
    {
      "cell_type": "code",
      "source": [
        "x.itemsize"
      ],
      "metadata": {
        "colab": {
          "base_uri": "https://localhost:8080/"
        },
        "id": "_5kZAefrFMWB",
        "outputId": "9039b7a9-1576-49ad-dcf6-2e9c5536cc53"
      },
      "execution_count": null,
      "outputs": [
        {
          "output_type": "execute_result",
          "data": {
            "text/plain": [
              "8"
            ]
          },
          "metadata": {},
          "execution_count": 7
        }
      ]
    },
    {
      "cell_type": "markdown",
      "metadata": {
        "id": "8-GNOUr1D9a0"
      },
      "source": [
        "#### 5.  How to get the documentation of the numpy add function from the command line? (★☆☆) \n",
        "(**hint**: np.info)"
      ]
    },
    {
      "cell_type": "code",
      "execution_count": null,
      "metadata": {
        "collapsed": true,
        "id": "KC0nGGXwD9a1",
        "colab": {
          "base_uri": "https://localhost:8080/"
        },
        "outputId": "4f18ff5f-908a-44da-b11c-3926c0a31cab"
      },
      "outputs": [
        {
          "output_type": "stream",
          "name": "stdout",
          "text": [
            "add(x1, x2, /, out=None, *, where=True, casting='same_kind', order='K', dtype=None, subok=True[, signature, extobj])\n",
            "\n",
            "Add arguments element-wise.\n",
            "\n",
            "Parameters\n",
            "----------\n",
            "x1, x2 : array_like\n",
            "    The arrays to be added.\n",
            "    If ``x1.shape != x2.shape``, they must be broadcastable to a common\n",
            "    shape (which becomes the shape of the output).\n",
            "out : ndarray, None, or tuple of ndarray and None, optional\n",
            "    A location into which the result is stored. If provided, it must have\n",
            "    a shape that the inputs broadcast to. If not provided or None,\n",
            "    a freshly-allocated array is returned. A tuple (possible only as a\n",
            "    keyword argument) must have length equal to the number of outputs.\n",
            "where : array_like, optional\n",
            "    This condition is broadcast over the input. At locations where the\n",
            "    condition is True, the `out` array will be set to the ufunc result.\n",
            "    Elsewhere, the `out` array will retain its original value.\n",
            "    Note that if an uninitialized `out` array is created via the default\n",
            "    ``out=None``, locations within it where the condition is False will\n",
            "    remain uninitialized.\n",
            "**kwargs\n",
            "    For other keyword-only arguments, see the\n",
            "    :ref:`ufunc docs <ufuncs.kwargs>`.\n",
            "\n",
            "Returns\n",
            "-------\n",
            "add : ndarray or scalar\n",
            "    The sum of `x1` and `x2`, element-wise.\n",
            "    This is a scalar if both `x1` and `x2` are scalars.\n",
            "\n",
            "Notes\n",
            "-----\n",
            "Equivalent to `x1` + `x2` in terms of array broadcasting.\n",
            "\n",
            "Examples\n",
            "--------\n",
            ">>> np.add(1.0, 4.0)\n",
            "5.0\n",
            ">>> x1 = np.arange(9.0).reshape((3, 3))\n",
            ">>> x2 = np.arange(3.0)\n",
            ">>> np.add(x1, x2)\n",
            "array([[  0.,   2.,   4.],\n",
            "       [  3.,   5.,   7.],\n",
            "       [  6.,   8.,  10.]])\n",
            "\n",
            "The ``+`` operator can be used as a shorthand for ``np.add`` on ndarrays.\n",
            "\n",
            ">>> x1 = np.arange(9.0).reshape((3, 3))\n",
            ">>> x2 = np.arange(3.0)\n",
            ">>> x1 + x2\n",
            "array([[ 0.,  2.,  4.],\n",
            "       [ 3.,  5.,  7.],\n",
            "       [ 6.,  8., 10.]])\n",
            "None\n"
          ]
        }
      ],
      "source": [
        "print(np.info(np.add))"
      ]
    },
    {
      "cell_type": "markdown",
      "metadata": {
        "id": "xaSCtdXSD9a1"
      },
      "source": [
        "#### 6.  Create a null vector of size 10 but the fifth value which is 1 (★☆☆) \n",
        "(**hint**: array\\[4\\])"
      ]
    },
    {
      "cell_type": "code",
      "execution_count": null,
      "metadata": {
        "id": "FOCUWiSgD9a2",
        "colab": {
          "base_uri": "https://localhost:8080/"
        },
        "outputId": "49f1b5ec-0c9c-4aa2-f2d8-83fedc8cd380"
      },
      "outputs": [
        {
          "output_type": "execute_result",
          "data": {
            "text/plain": [
              "array([0., 0., 0., 0., 1., 0., 0., 0., 0., 0.])"
            ]
          },
          "metadata": {},
          "execution_count": 17
        }
      ],
      "source": [
        "x=np.zeros(10)\n",
        "x[4]=1\n",
        "print(x)\n"
      ]
    },
    {
      "cell_type": "markdown",
      "metadata": {
        "id": "-rUdRPRGD9a2"
      },
      "source": [
        "#### 7.  Create a vector with values ranging from 10 to 49 (★☆☆) \n",
        "(**hint**: np.arange)"
      ]
    },
    {
      "cell_type": "code",
      "execution_count": null,
      "metadata": {
        "id": "FlT2d4NVD9a3",
        "colab": {
          "base_uri": "https://localhost:8080/"
        },
        "outputId": "2b8f0824-218c-449e-b5e7-e8418f0fdba7"
      },
      "outputs": [
        {
          "output_type": "stream",
          "name": "stdout",
          "text": [
            "[10 11 12 13 14 15 16 17 18 19 20 21 22 23 24 25 26 27 28 29 30 31 32 33\n",
            " 34 35 36 37 38 39 40 41 42 43 44 45 46 47 48 49]\n"
          ]
        }
      ],
      "source": [
        "x=np.arange(10,50) \n",
        "print(x)"
      ]
    },
    {
      "cell_type": "markdown",
      "metadata": {
        "id": "JTxKBaBMD9a3"
      },
      "source": [
        "#### 8.  Reverse a vector (first element becomes last) (★☆☆) \n",
        "(**hint**: array\\[::-1\\])"
      ]
    },
    {
      "cell_type": "code",
      "execution_count": null,
      "metadata": {
        "id": "qZZUo6_-D9a3"
      },
      "outputs": [],
      "source": [
        "x=np.arange(50)\n",
        "x=x[::-1]"
      ]
    },
    {
      "cell_type": "markdown",
      "metadata": {
        "id": "4DVE1Y-qD9a3"
      },
      "source": [
        "#### 9.  Create a 3x3 matrix with values ranging from 0 to 8 (★☆☆) \n",
        "(**hint**: reshape)"
      ]
    },
    {
      "cell_type": "code",
      "execution_count": null,
      "metadata": {
        "id": "utS7Y33hD9a4",
        "colab": {
          "base_uri": "https://localhost:8080/"
        },
        "outputId": "7aa6b377-674c-46dc-877f-99cd8a87d646"
      },
      "outputs": [
        {
          "output_type": "stream",
          "name": "stdout",
          "text": [
            "[[0 1 2]\n",
            " [3 4 5]\n",
            " [6 7 8]]\n"
          ]
        }
      ],
      "source": [
        "x=np.arange(9).reshape(3,3)\n",
        "print(x)"
      ]
    },
    {
      "cell_type": "markdown",
      "metadata": {
        "id": "wLF3O-4JD9a4"
      },
      "source": [
        "#### 10. Find indices of non-zero elements from \\[1,2,0,0,4,0\\] (★☆☆) \n",
        "(**hint**: np.nonzero)"
      ]
    },
    {
      "cell_type": "code",
      "execution_count": null,
      "metadata": {
        "id": "hYM4uAoKD9a5",
        "colab": {
          "base_uri": "https://localhost:8080/"
        },
        "outputId": "cce43d33-61ab-48fa-b195-95e90453290f"
      },
      "outputs": [
        {
          "output_type": "stream",
          "name": "stdout",
          "text": [
            "(array([0, 1, 4]),)\n"
          ]
        }
      ],
      "source": [
        "xy=np.nonzero([1,2,0,0,4,0])\n",
        "print(xy)"
      ]
    },
    {
      "cell_type": "markdown",
      "metadata": {
        "id": "DrMGN8AtD9a5"
      },
      "source": [
        "#### 11. Create a 3x3 identity matrix (★☆☆) \n",
        "(**hint**: np.eye)"
      ]
    },
    {
      "cell_type": "code",
      "execution_count": null,
      "metadata": {
        "id": "kSlein6vD9a5",
        "colab": {
          "base_uri": "https://localhost:8080/"
        },
        "outputId": "34482077-2dab-4677-d2c4-c9330bd3c250"
      },
      "outputs": [
        {
          "output_type": "stream",
          "name": "stdout",
          "text": [
            "[[1. 0. 0.]\n",
            " [0. 1. 0.]\n",
            " [0. 0. 1.]]\n"
          ]
        }
      ],
      "source": [
        "x=np.eye(3)\n",
        "print(x)"
      ]
    },
    {
      "cell_type": "markdown",
      "metadata": {
        "id": "nth2D0uBD9a5"
      },
      "source": [
        "#### 12. Create a 3x3x3 array with random values (★☆☆) \n",
        "(**hint**: np.random.random)"
      ]
    },
    {
      "cell_type": "code",
      "execution_count": null,
      "metadata": {
        "collapsed": true,
        "id": "fXx0S_27D9a5",
        "colab": {
          "base_uri": "https://localhost:8080/"
        },
        "outputId": "1ea9c556-85b2-4723-d2e6-04d1d2f299ce"
      },
      "outputs": [
        {
          "output_type": "stream",
          "name": "stdout",
          "text": [
            "[[[0.51277534 0.38303265 0.23065826]\n",
            "  [0.89005803 0.74848752 0.2662871 ]\n",
            "  [0.42363207 0.54336532 0.19648548]]\n",
            "\n",
            " [[0.56586541 0.31898046 0.81574658]\n",
            "  [0.2429559  0.25400086 0.36289215]\n",
            "  [0.7886624  0.78440779 0.73722099]]\n",
            "\n",
            " [[0.5416716  0.34487849 0.65977369]\n",
            "  [0.16068308 0.80336844 0.10275297]\n",
            "  [0.16081049 0.75545992 0.05455648]]]\n"
          ]
        }
      ],
      "source": [
        "x=np.random.random((3,3,3))\n",
        "print(x)"
      ]
    },
    {
      "cell_type": "markdown",
      "metadata": {
        "id": "wVKWrwtDD9a6"
      },
      "source": [
        "#### 13. Create a 10x10 array with random values and find the minimum and maximum values (★☆☆) \n",
        "(**hint**: min, max)"
      ]
    },
    {
      "cell_type": "code",
      "execution_count": null,
      "metadata": {
        "id": "pJB6sUrgD9a6",
        "colab": {
          "base_uri": "https://localhost:8080/"
        },
        "outputId": "d3121e59-52e5-462c-bb12-904a421ce92d"
      },
      "outputs": [
        {
          "output_type": "stream",
          "name": "stdout",
          "text": [
            "0.0012598717715415209 0.99578893906594\n"
          ]
        }
      ],
      "source": [
        "x=np.random.random((10,10))\n",
        "xmin,xmax=x.min(),x.max()\n",
        "print(xmin,xmax)"
      ]
    },
    {
      "cell_type": "markdown",
      "metadata": {
        "id": "f3DLAPHLD9a6"
      },
      "source": [
        "#### 14. Create a random vector of size 30 and find the mean value (★☆☆) \n",
        "(**hint**: mean)"
      ]
    },
    {
      "cell_type": "code",
      "execution_count": null,
      "metadata": {
        "id": "CyGJx2CUD9a6",
        "colab": {
          "base_uri": "https://localhost:8080/"
        },
        "outputId": "b099fcd0-bba3-43c9-db61-a96c1a4682ce"
      },
      "outputs": [
        {
          "output_type": "stream",
          "name": "stdout",
          "text": [
            "0.5589450973758144\n"
          ]
        }
      ],
      "source": [
        "x=np.random.random(30).mean()\n",
        "print(x)"
      ]
    },
    {
      "cell_type": "markdown",
      "metadata": {
        "id": "vYILBTtcD9a6"
      },
      "source": [
        "#### 15. Create a 2d array with 1 on the border and 0 inside (★☆☆) \n",
        "(**hint**: array\\[1:-1, 1:-1\\])"
      ]
    },
    {
      "cell_type": "code",
      "execution_count": null,
      "metadata": {
        "id": "LvldaJtGD9a7",
        "colab": {
          "base_uri": "https://localhost:8080/"
        },
        "outputId": "c202cc91-bb0b-4538-9d66-4c6719032720"
      },
      "outputs": [
        {
          "output_type": "stream",
          "name": "stdout",
          "text": [
            "[[1. 1. 1. 1. 1. 1. 1. 1. 1. 1.]\n",
            " [1. 0. 0. 0. 0. 0. 0. 0. 0. 1.]\n",
            " [1. 0. 0. 0. 0. 0. 0. 0. 0. 1.]\n",
            " [1. 0. 0. 0. 0. 0. 0. 0. 0. 1.]\n",
            " [1. 0. 0. 0. 0. 0. 0. 0. 0. 1.]\n",
            " [1. 0. 0. 0. 0. 0. 0. 0. 0. 1.]\n",
            " [1. 0. 0. 0. 0. 0. 0. 0. 0. 1.]\n",
            " [1. 0. 0. 0. 0. 0. 0. 0. 0. 1.]\n",
            " [1. 0. 0. 0. 0. 0. 0. 0. 0. 1.]\n",
            " [1. 1. 1. 1. 1. 1. 1. 1. 1. 1.]]\n"
          ]
        }
      ],
      "source": [
        "x=np.ones((10,10))\n",
        "x[1:-1,1:-1]=0\n",
        "print(x)"
      ]
    },
    {
      "cell_type": "markdown",
      "metadata": {
        "id": "b60hMEogD9a7"
      },
      "source": [
        "#### 16. How to add a border (filled with 0's) around an existing array? (★☆☆) \n",
        "(**hint**: np.pad)"
      ]
    },
    {
      "cell_type": "code",
      "execution_count": null,
      "metadata": {
        "id": "Ocjwg9U-D9a7",
        "colab": {
          "base_uri": "https://localhost:8080/"
        },
        "outputId": "cb379a5a-176e-44a8-b9f8-97204bef2f3e"
      },
      "outputs": [
        {
          "output_type": "stream",
          "name": "stdout",
          "text": [
            "[[0. 0. 0. 0. 0. 0. 0. 0. 0. 0. 0. 0.]\n",
            " [0. 1. 1. 1. 1. 1. 1. 1. 1. 1. 1. 0.]\n",
            " [0. 1. 0. 0. 0. 0. 0. 0. 0. 0. 1. 0.]\n",
            " [0. 1. 0. 0. 0. 0. 0. 0. 0. 0. 1. 0.]\n",
            " [0. 1. 0. 0. 0. 0. 0. 0. 0. 0. 1. 0.]\n",
            " [0. 1. 0. 0. 0. 0. 0. 0. 0. 0. 1. 0.]\n",
            " [0. 1. 0. 0. 0. 0. 0. 0. 0. 0. 1. 0.]\n",
            " [0. 1. 0. 0. 0. 0. 0. 0. 0. 0. 1. 0.]\n",
            " [0. 1. 0. 0. 0. 0. 0. 0. 0. 0. 1. 0.]\n",
            " [0. 1. 0. 0. 0. 0. 0. 0. 0. 0. 1. 0.]\n",
            " [0. 1. 1. 1. 1. 1. 1. 1. 1. 1. 1. 0.]\n",
            " [0. 0. 0. 0. 0. 0. 0. 0. 0. 0. 0. 0.]]\n"
          ]
        }
      ],
      "source": [
        "x = np.pad(x, pad_width=1, mode='constant', constant_values=0)\n",
        "print(x)"
      ]
    },
    {
      "cell_type": "markdown",
      "metadata": {
        "id": "R5uN-In7D9a7"
      },
      "source": [
        "#### 17. What is the result of the following expression? (★☆☆) \n",
        "(**hint**: NaN = not a number, inf = infinity)"
      ]
    },
    {
      "cell_type": "markdown",
      "metadata": {
        "id": "oDBSoyRGD9a7"
      },
      "source": [
        "```python\n",
        "0 * np.nan\n",
        "np.nan == np.nan\n",
        "np.inf > np.nan\n",
        "np.nan - np.nan\n",
        "0.3 == 3 * 0.1\n",
        "```"
      ]
    },
    {
      "cell_type": "code",
      "execution_count": null,
      "metadata": {
        "id": "GFac1WLzD9a8",
        "colab": {
          "base_uri": "https://localhost:8080/"
        },
        "outputId": "a519d17b-1b61-4889-dbb1-17e77a33c6bd"
      },
      "outputs": [
        {
          "output_type": "stream",
          "name": "stdout",
          "text": [
            "nan\n",
            "False\n",
            "False\n",
            "nan\n",
            "False\n"
          ]
        }
      ],
      "source": [
        "print(0 * np.nan)\n",
        "print(np.nan == np.nan)\n",
        "print(np.inf > np.nan)\n",
        "print(np.nan - np.nan)\n",
        "print(0.3 == 3 * 0.1)"
      ]
    },
    {
      "cell_type": "markdown",
      "metadata": {
        "id": "TiKbBmmiD9a8"
      },
      "source": [
        "#### 18. Create a 5x5 matrix with values 1,2,3,4 just below the diagonal (★☆☆) \n",
        "(**hint**: np.diag)"
      ]
    },
    {
      "cell_type": "code",
      "execution_count": null,
      "metadata": {
        "id": "bFomIg8nD9a8",
        "colab": {
          "base_uri": "https://localhost:8080/"
        },
        "outputId": "3d5aa3af-ec88-4022-ddaf-a6603e1d7149"
      },
      "outputs": [
        {
          "output_type": "stream",
          "name": "stdout",
          "text": [
            "[[0 0 0 0 0]\n",
            " [1 0 0 0 0]\n",
            " [0 2 0 0 0]\n",
            " [0 0 3 0 0]\n",
            " [0 0 0 4 0]]\n"
          ]
        }
      ],
      "source": [
        "x=np.diag(1+np.arange(4),k=-1)\n",
        "print(x)"
      ]
    },
    {
      "cell_type": "markdown",
      "metadata": {
        "id": "hjiLfgyWD9a8"
      },
      "source": [
        "#### 19. Create a 8x8 matrix and fill it with a checkerboard pattern (★☆☆) \n",
        "(**hint**: array\\[::2\\])"
      ]
    },
    {
      "cell_type": "code",
      "execution_count": null,
      "metadata": {
        "id": "pqNC9Bq3D9a8",
        "colab": {
          "base_uri": "https://localhost:8080/"
        },
        "outputId": "6eb364af-e0b9-49aa-f42b-8d2893be07b3"
      },
      "outputs": [
        {
          "output_type": "stream",
          "name": "stdout",
          "text": [
            "[[0 1 0 1 0 1 0 1]\n",
            " [1 0 1 0 1 0 1 0]\n",
            " [0 1 0 1 0 1 0 1]\n",
            " [1 0 1 0 1 0 1 0]\n",
            " [0 1 0 1 0 1 0 1]\n",
            " [1 0 1 0 1 0 1 0]\n",
            " [0 1 0 1 0 1 0 1]\n",
            " [1 0 1 0 1 0 1 0]]\n"
          ]
        }
      ],
      "source": [
        "x=np.zeros((8,8),dtype=int)\n",
        "x[1::2,::2]=1\n",
        "x[::2,1::2]=1\n",
        "print(x)"
      ]
    },
    {
      "cell_type": "markdown",
      "metadata": {
        "id": "IVIkNI_1D9a9"
      },
      "source": [
        "#### 20. Consider a (6,7,8) shape array, what is the index (x,y,z) of the 100th element? \n",
        "(**hint**: np.unravel_index)"
      ]
    },
    {
      "cell_type": "code",
      "execution_count": null,
      "metadata": {
        "id": "OTD-GDEDD9a9",
        "colab": {
          "base_uri": "https://localhost:8080/"
        },
        "outputId": "8d8ecb36-8079-436c-fc5c-83e494fdc8ca"
      },
      "outputs": [
        {
          "output_type": "stream",
          "name": "stdout",
          "text": [
            "(1, 5, 4)\n"
          ]
        }
      ],
      "source": [
        "x=np.unravel_index(100,(6,7,8))\n",
        "print(x)"
      ]
    },
    {
      "cell_type": "markdown",
      "metadata": {
        "id": "bc3MqHdgD9a9"
      },
      "source": [
        "#### 21. Create a checkerboard 8x8 matrix using the tile function (★☆☆) \n",
        "(**hint**: np.tile)"
      ]
    },
    {
      "cell_type": "code",
      "execution_count": null,
      "metadata": {
        "id": "5FF1L4rSD9a9",
        "colab": {
          "base_uri": "https://localhost:8080/"
        },
        "outputId": "bd9e412e-aa1d-4064-c29d-26835ba5fcb1"
      },
      "outputs": [
        {
          "output_type": "stream",
          "name": "stdout",
          "text": [
            "[[0 1 0 1 0 1 0 1]\n",
            " [1 0 1 0 1 0 1 0]\n",
            " [0 1 0 1 0 1 0 1]\n",
            " [1 0 1 0 1 0 1 0]\n",
            " [0 1 0 1 0 1 0 1]\n",
            " [1 0 1 0 1 0 1 0]\n",
            " [0 1 0 1 0 1 0 1]\n",
            " [1 0 1 0 1 0 1 0]]\n"
          ]
        }
      ],
      "source": [
        "x=np.tile(np.array([[0,1],[1,0]]),(4,4))\n",
        "print(x)"
      ]
    },
    {
      "cell_type": "markdown",
      "metadata": {
        "id": "rEIpGaaVD9a9"
      },
      "source": [
        "#### 22. Normalize a 5x5 random matrix (★☆☆) \n",
        "(**hint**: (x - min) / (max - min))"
      ]
    },
    {
      "cell_type": "code",
      "execution_count": null,
      "metadata": {
        "id": "H_6iyAURD9a9",
        "colab": {
          "base_uri": "https://localhost:8080/"
        },
        "outputId": "0dd495ce-fa4b-4141-f61a-4ce654146e9f"
      },
      "outputs": [
        {
          "output_type": "stream",
          "name": "stdout",
          "text": [
            "[[0.79118842 0.97595016 0.08962813 0.0475946  0.45948133]\n",
            " [0.3044356  0.97579755 1.         0.28782232 0.21462773]\n",
            " [0.68990848 0.         0.13717875 0.31780028 0.5480791 ]\n",
            " [0.25025651 0.50414249 0.9474144  0.12347484 0.97736273]\n",
            " [0.72374344 0.51611941 0.62821789 0.08842573 0.93037524]]\n"
          ]
        }
      ],
      "source": [
        "x=np.random.random((5,5))\n",
        "xmin,xmax=x.min(),x.max()\n",
        "x=(x-xmin)/(xmax-xmin)\n",
        "print(x)"
      ]
    },
    {
      "cell_type": "markdown",
      "metadata": {
        "id": "Pz9fSDwgD9a-"
      },
      "source": [
        "#### 23. Create a custom dtype that describes a color as four unsigned bytes (RGBA) (★☆☆) \n",
        "(**hint**: np.dtype)"
      ]
    },
    {
      "cell_type": "code",
      "execution_count": null,
      "metadata": {
        "collapsed": true,
        "id": "fgFnZsHfD9a-",
        "colab": {
          "base_uri": "https://localhost:8080/"
        },
        "outputId": "cf0ee7a5-ab91-4b1b-fb93-30e602c89c13"
      },
      "outputs": [
        {
          "output_type": "stream",
          "name": "stdout",
          "text": [
            "[[0 1 0 1 0 1 0 1]\n",
            " [1 0 1 0 1 0 1 0]\n",
            " [0 1 0 1 0 1 0 1]\n",
            " [1 0 1 0 1 0 1 0]\n",
            " [0 1 0 1 0 1 0 1]\n",
            " [1 0 1 0 1 0 1 0]\n",
            " [0 1 0 1 0 1 0 1]\n",
            " [1 0 1 0 1 0 1 0]]\n"
          ]
        },
        {
          "output_type": "stream",
          "name": "stderr",
          "text": [
            "/usr/local/lib/python3.7/dist-packages/ipykernel_launcher.py:1: FutureWarning: Passing (type, 1) or '1type' as a synonym of type is deprecated; in a future version of numpy, it will be understood as (type, (1,)) / '(1,)type'.\n",
            "  \"\"\"Entry point for launching an IPython kernel.\n"
          ]
        }
      ],
      "source": [
        "color=np.dtype([(\"r\",np.ubyte,1),(\"g\",np.ubyte,1),(\"b\",np.ubyte,1),(\"a\",np.ubyte,1)])\n",
        "print(x)"
      ]
    },
    {
      "cell_type": "markdown",
      "metadata": {
        "id": "cEi_sx8kD9a-"
      },
      "source": [
        "#### 24. Multiply a 5x3 matrix by a 3x2 matrix (real matrix product) (★☆☆) \n",
        "(**hint**: np.dot | @)"
      ]
    },
    {
      "cell_type": "code",
      "execution_count": null,
      "metadata": {
        "id": "yoIAjVtSD9a-",
        "colab": {
          "base_uri": "https://localhost:8080/"
        },
        "outputId": "a72a1338-ff06-44aa-e4d6-11e46b1e2965"
      },
      "outputs": [
        {
          "output_type": "stream",
          "name": "stdout",
          "text": [
            "[[3. 3.]\n",
            " [3. 3.]\n",
            " [3. 3.]\n",
            " [3. 3.]\n",
            " [3. 3.]]\n"
          ]
        }
      ],
      "source": [
        "x=np.dot(np.ones((5,3)),np.ones((3,2)))\n",
        "print(x)"
      ]
    },
    {
      "cell_type": "markdown",
      "metadata": {
        "id": "vmHahGvOD9a-"
      },
      "source": [
        "#### 25. Given a 1D array, negate all elements which are between 3 and 8, in place. (★☆☆) \n",
        "(**hint**: >, <=)"
      ]
    },
    {
      "cell_type": "code",
      "execution_count": null,
      "metadata": {
        "id": "E4hl1EaPD9a-",
        "colab": {
          "base_uri": "https://localhost:8080/"
        },
        "outputId": "bc82c387-b5e9-4ed5-e31a-dfa9395096a9"
      },
      "outputs": [
        {
          "output_type": "stream",
          "name": "stdout",
          "text": [
            "[ 0 -1 -2  3  4  5  6  7  8  9 10]\n"
          ]
        }
      ],
      "source": [
        "x=np.arange(11)\n",
        "x[(3>x)&(x<=8)]*=-1\n",
        "print(x)"
      ]
    },
    {
      "cell_type": "markdown",
      "metadata": {
        "id": "QcFPQpP7D9a_"
      },
      "source": [
        "#### 26. What is the output of the following script? (★☆☆) \n",
        "(**hint**: np.sum)"
      ]
    },
    {
      "cell_type": "markdown",
      "metadata": {
        "id": "mC_BX-AYD9a_"
      },
      "source": [
        "```python\n",
        "# Author: Jake VanderPlas\n",
        "\n",
        "print(sum(range(5),-1))\n",
        "from numpy import *\n",
        "print(sum(range(5),-1))\n",
        "```"
      ]
    },
    {
      "cell_type": "code",
      "execution_count": null,
      "metadata": {
        "id": "Ac8N7lGiD9a_",
        "colab": {
          "base_uri": "https://localhost:8080/"
        },
        "outputId": "355efa40-d6ea-4de2-dbf8-9621d506cb47"
      },
      "outputs": [
        {
          "output_type": "stream",
          "name": "stdout",
          "text": [
            "9\n",
            "10\n"
          ]
        }
      ],
      "source": [
        "print(sum(range(5),-1))\n",
        "from numpy import *\n",
        "print(sum(range(5),-1))"
      ]
    },
    {
      "cell_type": "markdown",
      "metadata": {
        "id": "psSHAvW5D9a_"
      },
      "source": [
        "#### 27. Consider an integer vector Z, which of these expressions are legal? (★☆☆)"
      ]
    },
    {
      "cell_type": "markdown",
      "metadata": {
        "id": "NEiMOeGxD9a_"
      },
      "source": [
        "```python\n",
        "Z**Z\n",
        "2 << Z >> 2\n",
        "Z <- Z\n",
        "1j*Z\n",
        "Z/1/1\n",
        "Z<Z>Z\n",
        "```"
      ]
    },
    {
      "cell_type": "code",
      "execution_count": null,
      "metadata": {
        "id": "IRdCpgK5D9a_",
        "colab": {
          "base_uri": "https://localhost:8080/",
          "height": 304
        },
        "outputId": "27a86b53-efdb-41c9-8273-796d1878e793"
      },
      "outputs": [
        {
          "output_type": "stream",
          "name": "stdout",
          "text": [
            "[        1         1         4        27       256      3125     46656\n",
            "    823543  16777216 387420489]\n",
            "[  0   1   2   4   8  16  32  64 128 256]\n",
            "[False False False False False False False False False False]\n",
            "[0.+0.j 0.+1.j 0.+2.j 0.+3.j 0.+4.j 0.+5.j 0.+6.j 0.+7.j 0.+8.j 0.+9.j]\n",
            "[0. 1. 2. 3. 4. 5. 6. 7. 8. 9.]\n"
          ]
        },
        {
          "output_type": "error",
          "ename": "ValueError",
          "evalue": "ignored",
          "traceback": [
            "\u001b[0;31m---------------------------------------------------------------------------\u001b[0m",
            "\u001b[0;31mValueError\u001b[0m                                Traceback (most recent call last)",
            "\u001b[0;32m<ipython-input-60-574763d2338b>\u001b[0m in \u001b[0;36m<module>\u001b[0;34m\u001b[0m\n\u001b[1;32m      5\u001b[0m \u001b[0mprint\u001b[0m\u001b[0;34m(\u001b[0m\u001b[0;36m1j\u001b[0m\u001b[0;34m*\u001b[0m\u001b[0mZ\u001b[0m\u001b[0;34m)\u001b[0m\u001b[0;34m\u001b[0m\u001b[0;34m\u001b[0m\u001b[0m\n\u001b[1;32m      6\u001b[0m \u001b[0mprint\u001b[0m\u001b[0;34m(\u001b[0m\u001b[0mZ\u001b[0m\u001b[0;34m/\u001b[0m\u001b[0;36m1\u001b[0m\u001b[0;34m/\u001b[0m\u001b[0;36m1\u001b[0m\u001b[0;34m)\u001b[0m\u001b[0;34m\u001b[0m\u001b[0;34m\u001b[0m\u001b[0m\n\u001b[0;32m----> 7\u001b[0;31m \u001b[0mprint\u001b[0m\u001b[0;34m(\u001b[0m\u001b[0mZ\u001b[0m\u001b[0;34m<\u001b[0m\u001b[0mZ\u001b[0m\u001b[0;34m>\u001b[0m\u001b[0mZ\u001b[0m\u001b[0;34m)\u001b[0m\u001b[0;34m\u001b[0m\u001b[0;34m\u001b[0m\u001b[0m\n\u001b[0m",
            "\u001b[0;31mValueError\u001b[0m: The truth value of an array with more than one element is ambiguous. Use a.any() or a.all()"
          ]
        }
      ],
      "source": [
        "Z=np.arange(10)\n",
        "print(Z**Z)\n",
        "print(2 << Z >> 2)\n",
        "print(Z <- Z)\n",
        "print(1j*Z)\n",
        "print(Z/1/1)\n",
        "print(Z<Z>Z) "
      ]
    },
    {
      "cell_type": "markdown",
      "metadata": {
        "id": "iGV2LU4HD9a_"
      },
      "source": [
        "#### 28. What are the result of the following expressions?"
      ]
    },
    {
      "cell_type": "markdown",
      "metadata": {
        "id": "ArBS2RHOD9bA"
      },
      "source": [
        "```python\n",
        "np.array(0) / np.array(0)\n",
        "np.array(0) // np.array(0)\n",
        "np.array([np.nan]).astype(int).astype(float)\n",
        "```"
      ]
    },
    {
      "cell_type": "code",
      "execution_count": null,
      "metadata": {
        "id": "WN4oWI2GD9bA",
        "colab": {
          "base_uri": "https://localhost:8080/"
        },
        "outputId": "b8c8d636-a7af-4614-8883-f848ee32872f"
      },
      "outputs": [
        {
          "output_type": "stream",
          "name": "stdout",
          "text": [
            "nan\n",
            "0\n",
            "[-9.22337204e+18]\n"
          ]
        },
        {
          "output_type": "stream",
          "name": "stderr",
          "text": [
            "/usr/local/lib/python3.7/dist-packages/ipykernel_launcher.py:1: RuntimeWarning: invalid value encountered in true_divide\n",
            "  \"\"\"Entry point for launching an IPython kernel.\n",
            "/usr/local/lib/python3.7/dist-packages/ipykernel_launcher.py:2: RuntimeWarning: divide by zero encountered in floor_divide\n",
            "  \n"
          ]
        }
      ],
      "source": [
        "print(np.array(0) / np.array(0))\n",
        "print(np.array(0) // np.array(0))\n",
        "print(np.array([np.nan]).astype(int).astype(float))"
      ]
    },
    {
      "cell_type": "markdown",
      "metadata": {
        "id": "bxJn9DBID9bA"
      },
      "source": [
        "#### 29. How to round away from zero a float array ? (★☆☆) \n",
        "(**hint**: np.uniform, np.copysign, np.ceil, np.abs)"
      ]
    },
    {
      "cell_type": "code",
      "execution_count": null,
      "metadata": {
        "id": "Yu5efx33D9bA",
        "colab": {
          "base_uri": "https://localhost:8080/"
        },
        "outputId": "f897425a-a1ca-4027-8434-a654eed20d87"
      },
      "outputs": [
        {
          "output_type": "stream",
          "name": "stdout",
          "text": [
            "[-5.5  2.3  1.4 -3.2 -5.3]\n",
            "[-6.  3.  2. -4. -6.]\n"
          ]
        }
      ],
      "source": [
        "z = np.array([-5.5,2.3,1.4,-3.2,-5.3])\n",
        "print(z)\n",
        "zz=np.copysign(np.ceil(np.abs(z)),z)\n",
        "print(zz)\n",
        "#z1=np.abs(z)\n",
        "#print(z1)\n",
        "#z2=np.floor(z1)\n",
        "#print(z2)\n",
        "#z3=np.copysign(z2,z)\n",
        "#print(z3)"
      ]
    },
    {
      "cell_type": "markdown",
      "metadata": {
        "id": "HZKgEZU2D9bA"
      },
      "source": [
        "#### 30. How to find common values between two arrays? (★☆☆) \n",
        "(**hint**: np.intersect1d)"
      ]
    },
    {
      "cell_type": "code",
      "execution_count": null,
      "metadata": {
        "id": "ZKM8UHOOD9bA",
        "colab": {
          "base_uri": "https://localhost:8080/"
        },
        "outputId": "e82ef716-c415-4b1a-f21e-292ba57f41df"
      },
      "outputs": [
        {
          "output_type": "stream",
          "name": "stdout",
          "text": [
            "[0 6 5 7 7 0 1 2 3 5]\n",
            "[0 1 2 3 5 6 7]\n"
          ]
        }
      ],
      "source": [
        "Z1 = np.random.randint(0,10,10)\n",
        "print(Z1)\n",
        "Z2 = np.random.randint(0,10,10)\n",
        "print(np.intersect1d(Z1,Z2))"
      ]
    },
    {
      "cell_type": "markdown",
      "metadata": {
        "id": "uB51Q8ZtD9bA"
      },
      "source": [
        "#### 31. How to ignore all numpy warnings (not recommended)? (★☆☆) \n",
        "(**hint**: np.seterr, np.errstate)"
      ]
    },
    {
      "cell_type": "code",
      "execution_count": null,
      "metadata": {
        "id": "NP-PjYcfD9bB"
      },
      "outputs": [],
      "source": [
        "# Suicide mode on\n",
        "defaults = np.seterr(all=\"ignore\")\n",
        "x = np.ones(1)/0\n",
        "\n",
        "x= np.seterr(**defaults) \n",
        "# Back to sanity"
      ]
    },
    {
      "cell_type": "markdown",
      "metadata": {
        "id": "wGkXqWkED9bB"
      },
      "source": [
        "#### 32. Is the following expressions true? (★☆☆) \n",
        "(**hint**: imaginary number)"
      ]
    },
    {
      "cell_type": "markdown",
      "metadata": {
        "id": "6zAv5JHED9bB"
      },
      "source": [
        "```python\n",
        "np.sqrt(-1) == np.emath.sqrt(-1)\n",
        "```"
      ]
    },
    {
      "cell_type": "code",
      "execution_count": null,
      "metadata": {
        "id": "e_gINnpWD9bB",
        "colab": {
          "base_uri": "https://localhost:8080/"
        },
        "outputId": "0dcdf084-b697-40c9-faae-28583c96778f"
      },
      "outputs": [
        {
          "output_type": "stream",
          "name": "stderr",
          "text": [
            "/usr/local/lib/python3.7/dist-packages/ipykernel_launcher.py:1: RuntimeWarning: invalid value encountered in sqrt\n",
            "  \"\"\"Entry point for launching an IPython kernel.\n"
          ]
        },
        {
          "output_type": "execute_result",
          "data": {
            "text/plain": [
              "False"
            ]
          },
          "metadata": {},
          "execution_count": 4
        }
      ],
      "source": [
        "np.sqrt(-1) == np.emath.sqrt(-1) #False"
      ]
    },
    {
      "cell_type": "markdown",
      "metadata": {
        "id": "KpUrAGqYD9bB"
      },
      "source": [
        "#### 33. How to get the dates of yesterday, today and tomorrow? (★☆☆) \n",
        "(**hint**: np.datetime64, np.timedelta64)"
      ]
    },
    {
      "cell_type": "code",
      "execution_count": null,
      "metadata": {
        "collapsed": true,
        "id": "AjvbFAGvD9bB",
        "colab": {
          "base_uri": "https://localhost:8080/"
        },
        "outputId": "300f389e-a982-4a0c-c719-996fc0da6222"
      },
      "outputs": [
        {
          "output_type": "stream",
          "name": "stdout",
          "text": [
            "Yesterday time is 2022-08-17\n",
            "Today time is 2022-08-18\n",
            "Tomorrow time is 2022-08-19\n"
          ]
        }
      ],
      "source": [
        "yesterday = np.datetime64('today','D')-np.timedelta64(1,'D')\n",
        "today = np.datetime64('today','D')\n",
        "tomorrow = np.datetime64('today','D') + np.timedelta64(1,'D')\n",
        "print (\"Yesterday time is \"+ str(yesterday))\n",
        "print (\"Today time is \"+ str(today))\n",
        "print (\"Tomorrow time is \"+ str(tomorrow))"
      ]
    },
    {
      "cell_type": "markdown",
      "metadata": {
        "id": "s8fQL3POD9bC"
      },
      "source": [
        "#### 34. How to get all the dates corresponding to the month of July 2016? (★★☆) \n",
        "(**hint**: np.arange(dtype=datetime64\\['D'\\]))"
      ]
    },
    {
      "cell_type": "code",
      "execution_count": null,
      "metadata": {
        "id": "dyTq21-2D9bC",
        "colab": {
          "base_uri": "https://localhost:8080/"
        },
        "outputId": "fe7ceef7-0753-4a8e-d2e5-487e7d27641d"
      },
      "outputs": [
        {
          "output_type": "stream",
          "name": "stdout",
          "text": [
            "['2016-07-01' '2016-07-02' '2016-07-03' '2016-07-04' '2016-07-05'\n",
            " '2016-07-06' '2016-07-07' '2016-07-08' '2016-07-09' '2016-07-10'\n",
            " '2016-07-11' '2016-07-12' '2016-07-13' '2016-07-14' '2016-07-15'\n",
            " '2016-07-16' '2016-07-17' '2016-07-18' '2016-07-19' '2016-07-20'\n",
            " '2016-07-21' '2016-07-22' '2016-07-23' '2016-07-24' '2016-07-25'\n",
            " '2016-07-26' '2016-07-27' '2016-07-28' '2016-07-29' '2016-07-30'\n",
            " '2016-07-31']\n"
          ]
        }
      ],
      "source": [
        "x = np.arange('2016-07', '2016-08', dtype='datetime64[D]')\n",
        "print(x)"
      ]
    },
    {
      "cell_type": "markdown",
      "metadata": {
        "id": "5K8ALGHOD9bD"
      },
      "source": [
        "#### 35. How to compute ((A+B)\\*(-A/2)) in place (without copy)? (★★☆) \n",
        "(**hint**: np.add(out=), np.negative(out=), np.multiply(out=), np.divide(out=))"
      ]
    },
    {
      "cell_type": "code",
      "execution_count": null,
      "metadata": {
        "id": "Ei8-KLU4D9bD",
        "colab": {
          "base_uri": "https://localhost:8080/"
        },
        "outputId": "e9b71522-080f-414d-e11a-620b3e6f10f1"
      },
      "outputs": [
        {
          "output_type": "execute_result",
          "data": {
            "text/plain": [
              "array([-1.5, -1.5, -1.5])"
            ]
          },
          "metadata": {},
          "execution_count": 7
        }
      ],
      "source": [
        "A = np.ones(3)*1\n",
        "B = np.ones(3)*2\n",
        "C = np.ones(3)*3\n",
        "np.add(A,B,out=B)\n",
        "np.divide(A,2,out=A)\n",
        "np.negative(A,out=A)\n",
        "np.multiply(A,B,out=A)"
      ]
    },
    {
      "cell_type": "markdown",
      "metadata": {
        "id": "HcI7zOsoD9bE"
      },
      "source": [
        "#### 36. Extract the integer part of a random array using 5 different methods (★★☆) \n",
        "(**hint**: %, np.floor, np.ceil, astype, np.trunc)"
      ]
    },
    {
      "cell_type": "code",
      "execution_count": null,
      "metadata": {
        "id": "bIKmSQaUD9bE",
        "colab": {
          "base_uri": "https://localhost:8080/"
        },
        "outputId": "259dc974-1e0f-49a0-84b0-975e68f4b618"
      },
      "outputs": [
        {
          "output_type": "stream",
          "name": "stdout",
          "text": [
            "[6. 2. 6. 1. 9. 3. 9. 0. 8. 7.]\n",
            "[6. 2. 6. 1. 9. 3. 9. 0. 8. 7.]\n",
            "[6. 2. 6. 1. 9. 3. 9. 0. 8. 7.]\n",
            "[6 2 6 1 9 3 9 0 8 7]\n",
            "[6. 2. 6. 1. 9. 3. 9. 0. 8. 7.]\n"
          ]
        }
      ],
      "source": [
        "x = np.random.uniform(0,10,10)\n",
        "\n",
        "print (x-x%1)\n",
        "print (np.floor(x))\n",
        "print (np.ceil(x)-1)\n",
        "print (x.astype(int))\n",
        "print (np.trunc(x))"
      ]
    },
    {
      "cell_type": "markdown",
      "metadata": {
        "id": "4YjkTZEPD9bE"
      },
      "source": [
        "#### 37. Create a 5x5 matrix with row values ranging from 0 to 4 (★★☆) \n",
        "(**hint**: np.arange)"
      ]
    },
    {
      "cell_type": "code",
      "execution_count": null,
      "metadata": {
        "id": "K_Hhmb8lD9bE",
        "colab": {
          "base_uri": "https://localhost:8080/"
        },
        "outputId": "9b910995-c62f-4ff6-d328-e5d2d53d9483"
      },
      "outputs": [
        {
          "output_type": "stream",
          "name": "stdout",
          "text": [
            "[[0. 1. 2. 3. 4.]\n",
            " [0. 1. 2. 3. 4.]\n",
            " [0. 1. 2. 3. 4.]\n",
            " [0. 1. 2. 3. 4.]\n",
            " [0. 1. 2. 3. 4.]]\n"
          ]
        }
      ],
      "source": [
        "x = np.zeros((5,5))\n",
        "x += np.arange(5)\n",
        "print (x)"
      ]
    },
    {
      "cell_type": "markdown",
      "metadata": {
        "id": "-68fVQNyD9bE"
      },
      "source": [
        "#### 38. Consider a generator function that generates 10 integers and use it to build an array (★☆☆) \n",
        "(**hint**: np.fromiter)"
      ]
    },
    {
      "cell_type": "code",
      "execution_count": null,
      "metadata": {
        "id": "QGQix0biD9bF",
        "colab": {
          "base_uri": "https://localhost:8080/"
        },
        "outputId": "ec0e322b-4793-4cea-89df-c394b1c088a2"
      },
      "outputs": [
        {
          "output_type": "stream",
          "name": "stdout",
          "text": [
            "[0. 1. 2. 3. 4. 5. 6. 7. 8. 9.]\n"
          ]
        }
      ],
      "source": [
        "def generate():\n",
        "    for x in range(10):\n",
        "        yield x\n",
        "Z = np.fromiter(generate(),dtype=float,count=-1)\n",
        "print (Z)"
      ]
    },
    {
      "cell_type": "markdown",
      "metadata": {
        "id": "gbsRQEwgD9bF"
      },
      "source": [
        "#### 39. Create a vector of size 10 with values ranging from 0 to 1, both excluded (★★☆) \n",
        "(**hint**: np.linspace)"
      ]
    },
    {
      "cell_type": "code",
      "execution_count": null,
      "metadata": {
        "id": "yJ4PHMUcD9bF",
        "colab": {
          "base_uri": "https://localhost:8080/"
        },
        "outputId": "7e825ab8-ded1-4c64-f9b3-87272b81ae93"
      },
      "outputs": [
        {
          "output_type": "stream",
          "name": "stdout",
          "text": [
            "[0.09090909 0.18181818 0.27272727 0.36363636 0.45454545 0.54545455\n",
            " 0.63636364 0.72727273 0.81818182 0.90909091]\n"
          ]
        }
      ],
      "source": [
        "x = np.linspace(0,1,11,endpoint=False)[1:]\n",
        "print (x)"
      ]
    },
    {
      "cell_type": "markdown",
      "metadata": {
        "id": "rup8CGwLD9bF"
      },
      "source": [
        "#### 40. Create a random vector of size 10 and sort it (★★☆) \n",
        "(**hint**: sort)"
      ]
    },
    {
      "cell_type": "code",
      "execution_count": null,
      "metadata": {
        "id": "3yjPBZJ0D9bF",
        "colab": {
          "base_uri": "https://localhost:8080/"
        },
        "outputId": "1e112697-d91e-4226-a6c7-7ef1484e5648"
      },
      "outputs": [
        {
          "output_type": "stream",
          "name": "stdout",
          "text": [
            "[0.11219898 0.22508868 0.246112   0.25349763 0.33117558 0.34427947\n",
            " 0.44451161 0.55557347 0.83454357 0.99249353]\n"
          ]
        }
      ],
      "source": [
        "x= np.random.random(10)\n",
        "x.sort()\n",
        "print (x)"
      ]
    },
    {
      "cell_type": "markdown",
      "metadata": {
        "id": "znr6QXR1D9bF"
      },
      "source": [
        "#### 41. How to sum a small array faster than np.sum? (★★☆) \n",
        "(**hint**: np.add.reduce)"
      ]
    },
    {
      "cell_type": "code",
      "execution_count": null,
      "metadata": {
        "id": "H_tO7r4jD9bF",
        "colab": {
          "base_uri": "https://localhost:8080/"
        },
        "outputId": "bd9d0b7d-9067-48c6-c019-47fa57c4573c"
      },
      "outputs": [
        {
          "output_type": "execute_result",
          "data": {
            "text/plain": [
              "45"
            ]
          },
          "metadata": {},
          "execution_count": 13
        }
      ],
      "source": [
        "x = np.arange(10)\n",
        "np.add.reduce(x)"
      ]
    },
    {
      "cell_type": "markdown",
      "metadata": {
        "id": "do1yKF4kD9bG"
      },
      "source": [
        "#### 42. Consider two random array A and B, check if they are equal (★★☆) \n",
        "(**hint**: np.allclose, np.array\\_equal)"
      ]
    },
    {
      "cell_type": "code",
      "execution_count": null,
      "metadata": {
        "id": "2tFpwKwPD9bG",
        "colab": {
          "base_uri": "https://localhost:8080/"
        },
        "outputId": "fa00cc0c-3975-4e56-841a-5fd93d2b9d51"
      },
      "outputs": [
        {
          "output_type": "stream",
          "name": "stdout",
          "text": [
            "False\n"
          ]
        }
      ],
      "source": [
        "A = np.random.randint(0,2,5)\n",
        "B = np.random.randint(0,2,5)\n",
        "equal = np.array_equal(A,B)\n",
        "print(equal)"
      ]
    },
    {
      "cell_type": "markdown",
      "metadata": {
        "id": "Q13z1NSwD9bG"
      },
      "source": [
        "#### 43. Make an array immutable (read-only) (★★☆) \n",
        "(**hint**: flags.writeable)"
      ]
    },
    {
      "cell_type": "code",
      "execution_count": null,
      "metadata": {
        "id": "3T9RXrB1D9bG"
      },
      "outputs": [],
      "source": [
        "x= np.zeros(10)\n",
        "x.flags.writeable = False\n"
      ]
    },
    {
      "cell_type": "markdown",
      "metadata": {
        "id": "jPBi4kJeD9bG"
      },
      "source": [
        "#### 44. Consider a random 10x2 matrix representing cartesian coordinates, convert them to polar coordinates (★★☆) \n",
        "(**hint**: np.sqrt, np.arctan2)"
      ]
    },
    {
      "cell_type": "code",
      "execution_count": null,
      "metadata": {
        "id": "FebfqW-1D9bG",
        "colab": {
          "base_uri": "https://localhost:8080/"
        },
        "outputId": "c01e2d4f-c950-478c-b1e4-9dc5cb0dcf7a"
      },
      "outputs": [
        {
          "output_type": "stream",
          "name": "stdout",
          "text": [
            "[0.34127664 0.81521159 0.99087826 0.50924818 0.98557341 0.98142226\n",
            " 0.50321491 0.9914518  0.73571169 0.30706975]\n",
            "[0.88609064 1.4174326  0.23626569 1.53933995 0.1957964  1.05279827\n",
            " 1.19011488 0.13625622 0.86200993 1.23299342]\n"
          ]
        }
      ],
      "source": [
        "Z = np.random.random((10,2))\n",
        "X,Y = Z[:,0], Z[:,1]\n",
        "R = np.sqrt(X**2+Y**2)\n",
        "T = np.arctan2(Y,X)\n",
        "print (R)\n",
        "print (T)"
      ]
    },
    {
      "cell_type": "markdown",
      "metadata": {
        "id": "h1vfc5svD9bH"
      },
      "source": [
        "#### 45. Create random vector of size 10 and replace the maximum value by 0 (★★☆) \n",
        "(**hint**: argmax)"
      ]
    },
    {
      "cell_type": "code",
      "execution_count": null,
      "metadata": {
        "id": "1Cdqt5NxD9bH",
        "colab": {
          "base_uri": "https://localhost:8080/"
        },
        "outputId": "2411616d-3e9b-471e-9d84-be263e10a378"
      },
      "outputs": [
        {
          "output_type": "stream",
          "name": "stdout",
          "text": [
            "[0.02761948 0.         0.41379576 0.65652934 0.0739443  0.14860982\n",
            " 0.11939125 0.09241783 0.53969263 0.05109374]\n"
          ]
        }
      ],
      "source": [
        "Z = np.random.random(10)\n",
        "Z[Z.argmax()] = 0\n",
        "print (Z)"
      ]
    },
    {
      "cell_type": "markdown",
      "metadata": {
        "id": "tlJMYFZoD9bH"
      },
      "source": [
        "#### 46. Create a structured array with `x` and `y` coordinates covering the \\[0,1\\]x\\[0,1\\] area (★★☆) \n",
        "(**hint**: np.meshgrid)"
      ]
    },
    {
      "cell_type": "code",
      "execution_count": null,
      "metadata": {
        "id": "3nD-102lD9bH",
        "colab": {
          "base_uri": "https://localhost:8080/"
        },
        "outputId": "0949aca2-b232-42e4-d804-7e7905c53b33"
      },
      "outputs": [
        {
          "output_type": "stream",
          "name": "stdout",
          "text": [
            "[[(0.  , 0.  ) (0.25, 0.  ) (0.5 , 0.  ) (0.75, 0.  ) (1.  , 0.  )]\n",
            " [(0.  , 0.25) (0.25, 0.25) (0.5 , 0.25) (0.75, 0.25) (1.  , 0.25)]\n",
            " [(0.  , 0.5 ) (0.25, 0.5 ) (0.5 , 0.5 ) (0.75, 0.5 ) (1.  , 0.5 )]\n",
            " [(0.  , 0.75) (0.25, 0.75) (0.5 , 0.75) (0.75, 0.75) (1.  , 0.75)]\n",
            " [(0.  , 1.  ) (0.25, 1.  ) (0.5 , 1.  ) (0.75, 1.  ) (1.  , 1.  )]]\n"
          ]
        }
      ],
      "source": [
        "Z = np.zeros((5,5), [('x',float),('y',float)])\n",
        "Z['x'], Z['y'] = np.meshgrid(np.linspace(0,1,5),\n",
        "                             np.linspace(0,1,5))\n",
        "print(Z)"
      ]
    },
    {
      "cell_type": "markdown",
      "metadata": {
        "id": "wPzfnDgED9bH"
      },
      "source": [
        "####  47. Given two arrays, X and Y, construct the Cauchy matrix C (Cij =1/(xi - yj)) \n",
        "(**hint**: np.subtract.outer)"
      ]
    },
    {
      "cell_type": "code",
      "execution_count": null,
      "metadata": {
        "id": "eHqcs5_lD9bH",
        "colab": {
          "base_uri": "https://localhost:8080/"
        },
        "outputId": "9bd6c647-2ed9-481f-8aba-d84ddb3ab406"
      },
      "outputs": [
        {
          "output_type": "stream",
          "name": "stdout",
          "text": [
            "3638.163637117973\n"
          ]
        }
      ],
      "source": [
        "X = np.arange(8)\n",
        "Y = X + 0.5\n",
        "C = 1.0/np.subtract.outer(X, Y)\n",
        "print(np.linalg.det(C))"
      ]
    },
    {
      "cell_type": "markdown",
      "metadata": {
        "id": "vxC0aJcbD9bH"
      },
      "source": [
        "#### 48. Print the minimum and maximum representable value for each numpy scalar type (★★☆) \n",
        "(**hint**: np.iinfo, np.finfo, eps)"
      ]
    },
    {
      "cell_type": "code",
      "execution_count": null,
      "metadata": {
        "id": "dhK1-KWdD9bI",
        "colab": {
          "base_uri": "https://localhost:8080/"
        },
        "outputId": "c33ef266-b9b7-4da9-b9e0-aeb5d6a90776"
      },
      "outputs": [
        {
          "output_type": "stream",
          "name": "stdout",
          "text": [
            "-128\n",
            "127\n",
            "-2147483648\n",
            "2147483647\n",
            "-9223372036854775808\n",
            "9223372036854775807\n",
            "-3.4028235e+38\n",
            "3.4028235e+38\n",
            "1.1920929e-07\n",
            "-1.7976931348623157e+308\n",
            "1.7976931348623157e+308\n",
            "2.220446049250313e-16\n"
          ]
        }
      ],
      "source": [
        "for dtype in [np.int8, np.int32, np.int64]:\n",
        "    print(np.iinfo(dtype).min)\n",
        "    print(np.iinfo(dtype).max)\n",
        "\n",
        "for dtype in [np.float32, np.float64]:\n",
        "    print(np.finfo(dtype).min)\n",
        "    print(np.finfo(dtype).max)\n",
        "    print(np.finfo(dtype).eps)"
      ]
    },
    {
      "cell_type": "markdown",
      "metadata": {
        "id": "sFbNW9exD9bI"
      },
      "source": [
        "#### 49. How to print all the values of an array? (★★☆) \n",
        "(**hint**: np.set\\_printoptions)"
      ]
    },
    {
      "cell_type": "code",
      "execution_count": null,
      "metadata": {
        "id": "N5ne0gkrD9bI"
      },
      "outputs": [],
      "source": [
        "Z = np.arange(100).reshape(20,5)\n",
        "np.set_printoptions()"
      ]
    },
    {
      "cell_type": "markdown",
      "metadata": {
        "id": "2_NrlP9FD9bI"
      },
      "source": [
        "#### 50. How to find the closest value (to a given scalar) in a vector? (★★☆) \n",
        "(**hint**: argmin)"
      ]
    },
    {
      "cell_type": "code",
      "execution_count": null,
      "metadata": {
        "id": "xk8q8Yw8D9bI",
        "colab": {
          "base_uri": "https://localhost:8080/"
        },
        "outputId": "268984e8-f3e6-4fe3-c0df-58c46d4311ab"
      },
      "outputs": [
        {
          "output_type": "stream",
          "name": "stdout",
          "text": [
            "83\n"
          ]
        }
      ],
      "source": [
        "x= np.arange(100)\n",
        "y= np.random.uniform(0,100)\n",
        "index = (np.abs(x-y)).argmin()\n",
        "print (x[index])"
      ]
    },
    {
      "cell_type": "markdown",
      "metadata": {
        "id": "W0T4kVXCD9bI"
      },
      "source": [
        "#### 51. Create a structured array representing a position (x,y) and a color (r,g,b) (★★☆) \n",
        "(**hint**: dtype)"
      ]
    },
    {
      "cell_type": "code",
      "execution_count": null,
      "metadata": {
        "id": "Ne0TwzBQD9bI",
        "colab": {
          "base_uri": "https://localhost:8080/"
        },
        "outputId": "ddffe3d2-4819-40d4-a7a9-2ee3ce4d96b6"
      },
      "outputs": [
        {
          "output_type": "stream",
          "name": "stdout",
          "text": [
            "[((0., 0.), (0., 0., 0.)) ((0., 0.), (0., 0., 0.))\n",
            " ((0., 0.), (0., 0., 0.)) ((0., 0.), (0., 0., 0.))\n",
            " ((0., 0.), (0., 0., 0.)) ((0., 0.), (0., 0., 0.))\n",
            " ((0., 0.), (0., 0., 0.)) ((0., 0.), (0., 0., 0.))\n",
            " ((0., 0.), (0., 0., 0.)) ((0., 0.), (0., 0., 0.))]\n"
          ]
        },
        {
          "output_type": "stream",
          "name": "stderr",
          "text": [
            "/usr/local/lib/python3.7/dist-packages/ipykernel_launcher.py:5: FutureWarning: Passing (type, 1) or '1type' as a synonym of type is deprecated; in a future version of numpy, it will be understood as (type, (1,)) / '(1,)type'.\n",
            "  \"\"\"\n"
          ]
        }
      ],
      "source": [
        "Z = np.zeros(10, [('position', [('x', float, 1),\n",
        "                                  ('y', float, 1)]),\n",
        "                   ('color', [('r', float, 1),\n",
        "                                  ('g', float, 1),\n",
        "                                  ('b', float, 1)])])\n",
        "print (Z)"
      ]
    },
    {
      "cell_type": "markdown",
      "metadata": {
        "id": "aQcNMe22D9bJ"
      },
      "source": [
        "#### 52. Consider a random vector with shape (100,2) representing coordinates, find point by point distances (★★☆) \n",
        "(**hint**: np.atleast\\_2d, T, np.sqrt)"
      ]
    },
    {
      "cell_type": "code",
      "execution_count": null,
      "metadata": {
        "id": "tkfgB2g_D9bJ",
        "colab": {
          "base_uri": "https://localhost:8080/"
        },
        "outputId": "1870143a-84f6-4d13-ba44-48c8d999d8c9"
      },
      "outputs": [
        {
          "output_type": "stream",
          "name": "stdout",
          "text": [
            "[[0.         0.475822   0.68883478 0.57178251 0.08928124 0.73111779\n",
            "  0.59717271 0.17362487 0.23224645 0.7699594 ]\n",
            " [0.475822   0.         0.43593935 0.59983759 0.55202432 0.26197114\n",
            "  0.64868105 0.46064043 0.25832003 0.31166379]\n",
            " [0.68883478 0.43593935 0.         0.34891369 0.72015325 0.40640838\n",
            "  0.39241653 0.55695836 0.58213576 0.37404574]\n",
            " [0.57178251 0.59983759 0.34891369 0.         0.55809933 0.69843769\n",
            "  0.05020503 0.39920645 0.59436198 0.68669679]\n",
            " [0.08928124 0.55202432 0.72015325 0.55809933 0.         0.80173856\n",
            "  0.5766231  0.16812189 0.31790752 0.83661637]\n",
            " [0.73111779 0.26197114 0.40640838 0.69843769 0.80173856 0.\n",
            "  0.7482209  0.68739941 0.52013757 0.06578209]\n",
            " [0.59717271 0.64868105 0.39241653 0.05020503 0.5766231  0.7482209\n",
            "  0.         0.42358609 0.63421899 0.73569232]\n",
            " [0.17362487 0.46064043 0.55695836 0.39920645 0.16812189 0.68739941\n",
            "  0.42358609 0.         0.2882538  0.713128  ]\n",
            " [0.23224645 0.25832003 0.58213576 0.59436198 0.31790752 0.52013757\n",
            "  0.63421899 0.2882538  0.         0.56717277]\n",
            " [0.7699594  0.31166379 0.37404574 0.68669679 0.83661637 0.06578209\n",
            "  0.73569232 0.713128   0.56717277 0.        ]]\n"
          ]
        }
      ],
      "source": [
        "Z = np.random.random((10,2))\n",
        "X,Y = np.atleast_2d(Z[:,0], Z[:,1])\n",
        "D = np.sqrt( (X-X.T)**2 + (Y-Y.T)**2)\n",
        "print (D)"
      ]
    },
    {
      "cell_type": "markdown",
      "metadata": {
        "id": "cTorRcQwD9bJ"
      },
      "source": [
        "#### 53. How to convert a float (32 bits) array into an integer (32 bits) in place? \n",
        "(**hint**: astype(copy=False))"
      ]
    },
    {
      "cell_type": "code",
      "execution_count": null,
      "metadata": {
        "id": "JpOQML-mD9bJ",
        "colab": {
          "base_uri": "https://localhost:8080/"
        },
        "outputId": "f6e8d82c-0c6c-4bf1-855c-490c1d22c0c9"
      },
      "outputs": [
        {
          "output_type": "stream",
          "name": "stdout",
          "text": [
            "[0. 1. 2. 3. 4. 5. 6. 7. 8. 9.]\n"
          ]
        }
      ],
      "source": [
        "Z = np.arange(10, dtype=np.int32)\n",
        "Z = Z.astype(np.float32, copy=False)\n",
        "print (Z)"
      ]
    },
    {
      "cell_type": "markdown",
      "metadata": {
        "id": "7bgm9kOZD9bJ"
      },
      "source": [
        "#### 54. How to read the following file? (★★☆) \n",
        "(**hint**: np.genfromtxt)"
      ]
    },
    {
      "cell_type": "markdown",
      "metadata": {
        "id": "wsIYO7CzD9bJ"
      },
      "source": [
        "```\n",
        "1, 2, 3, 4, 5\n",
        "6,  ,  , 7, 8\n",
        " ,  , 9,10,11\n",
        "```"
      ]
    },
    {
      "cell_type": "code",
      "execution_count": null,
      "metadata": {
        "id": "OHhqSq1SD9bK",
        "colab": {
          "base_uri": "https://localhost:8080/"
        },
        "outputId": "4a97368f-684d-429a-c70d-6314828b0070"
      },
      "outputs": [
        {
          "output_type": "stream",
          "name": "stdout",
          "text": [
            "[[ 1.  2.  3.  4.  5.]\n",
            " [ 6. nan nan  7.  8.]\n",
            " [nan nan  9. 10. 11.]]\n"
          ]
        }
      ],
      "source": [
        "import numpy as np\n",
        "from io import StringIO\n",
        "data=('''1, 2, 3, 4, 5\n",
        "                6,  ,  , 7, 8\n",
        "                 ,  , 9,10,11''')\n",
        "Z=np.genfromtxt(StringIO(data), delimiter=\",\")\n",
        "print(Z)"
      ]
    },
    {
      "cell_type": "markdown",
      "metadata": {
        "id": "RdKwGrMKD9bK"
      },
      "source": [
        "#### 55. What is the equivalent of enumerate for numpy arrays? (★★☆) \n",
        "(**hint**: np.ndenumerate, np.ndindex)"
      ]
    },
    {
      "cell_type": "code",
      "execution_count": null,
      "metadata": {
        "id": "H98dY1fKD9bK",
        "colab": {
          "base_uri": "https://localhost:8080/"
        },
        "outputId": "ce0db4a2-4707-4eb8-e6b2-e9e6003a336c"
      },
      "outputs": [
        {
          "output_type": "stream",
          "name": "stdout",
          "text": [
            "(0, 0) 0\n",
            "(0, 1) 1\n",
            "(0, 2) 2\n",
            "(1, 0) 3\n",
            "(1, 1) 4\n",
            "(1, 2) 5\n",
            "(2, 0) 6\n",
            "(2, 1) 7\n",
            "(2, 2) 8\n",
            "(0, 0) 0\n",
            "(0, 1) 1\n",
            "(0, 2) 2\n",
            "(1, 0) 3\n",
            "(1, 1) 4\n",
            "(1, 2) 5\n",
            "(2, 0) 6\n",
            "(2, 1) 7\n",
            "(2, 2) 8\n"
          ]
        }
      ],
      "source": [
        "Z = np.arange(9).reshape(3,3)\n",
        "for index, value in np.ndenumerate(Z):\n",
        "    print (index, value)\n",
        "for index in np.ndindex(Z.shape):\n",
        "    print (index, Z[index])\n"
      ]
    },
    {
      "cell_type": "markdown",
      "metadata": {
        "id": "HTrlpCYaD9bK"
      },
      "source": [
        "#### 56. Generate a generic 2D Gaussian-like array (★★☆) \n",
        "(**hint**: np.meshgrid, np.exp)"
      ]
    },
    {
      "cell_type": "code",
      "execution_count": null,
      "metadata": {
        "id": "wpPs4r_SD9bK",
        "colab": {
          "base_uri": "https://localhost:8080/"
        },
        "outputId": "f26e0065-27ac-4bc4-e26b-d9a0c8accc02"
      },
      "outputs": [
        {
          "output_type": "stream",
          "name": "stdout",
          "text": [
            "[[0.36787944 0.44822088 0.51979489 0.57375342 0.60279818 0.60279818\n",
            "  0.57375342 0.51979489 0.44822088 0.36787944]\n",
            " [0.44822088 0.54610814 0.63331324 0.69905581 0.73444367 0.73444367\n",
            "  0.69905581 0.63331324 0.54610814 0.44822088]\n",
            " [0.51979489 0.63331324 0.73444367 0.81068432 0.85172308 0.85172308\n",
            "  0.81068432 0.73444367 0.63331324 0.51979489]\n",
            " [0.57375342 0.69905581 0.81068432 0.89483932 0.9401382  0.9401382\n",
            "  0.89483932 0.81068432 0.69905581 0.57375342]\n",
            " [0.60279818 0.73444367 0.85172308 0.9401382  0.98773022 0.98773022\n",
            "  0.9401382  0.85172308 0.73444367 0.60279818]\n",
            " [0.60279818 0.73444367 0.85172308 0.9401382  0.98773022 0.98773022\n",
            "  0.9401382  0.85172308 0.73444367 0.60279818]\n",
            " [0.57375342 0.69905581 0.81068432 0.89483932 0.9401382  0.9401382\n",
            "  0.89483932 0.81068432 0.69905581 0.57375342]\n",
            " [0.51979489 0.63331324 0.73444367 0.81068432 0.85172308 0.85172308\n",
            "  0.81068432 0.73444367 0.63331324 0.51979489]\n",
            " [0.44822088 0.54610814 0.63331324 0.69905581 0.73444367 0.73444367\n",
            "  0.69905581 0.63331324 0.54610814 0.44822088]\n",
            " [0.36787944 0.44822088 0.51979489 0.57375342 0.60279818 0.60279818\n",
            "  0.57375342 0.51979489 0.44822088 0.36787944]]\n"
          ]
        }
      ],
      "source": [
        "X, Y = np.meshgrid(np.linspace(-1,1,10), np.linspace(-1,1,10))\n",
        "D = np.sqrt(X*X+Y*Y)\n",
        "sigma, mu = 1.0, 0.0\n",
        "G = np.exp(-( (D-mu)**2/(2.0 * sigma**2)))\n",
        "print (G)"
      ]
    },
    {
      "cell_type": "markdown",
      "metadata": {
        "id": "6D665RMaD9bK"
      },
      "source": [
        "#### 57. How to randomly place p elements in a 2D array? (★★☆) \n",
        "(**hint**: np.put, np.random.choice)"
      ]
    },
    {
      "cell_type": "code",
      "execution_count": null,
      "metadata": {
        "id": "Xg2s70odD9bK",
        "colab": {
          "base_uri": "https://localhost:8080/"
        },
        "outputId": "0983638a-6654-4901-eaaf-edeea21c213c"
      },
      "outputs": [
        {
          "output_type": "stream",
          "name": "stdout",
          "text": [
            "[[0. 0. 0. 0. 0. 0. 0. 0. 0. 0.]\n",
            " [0. 0. 0. 0. 0. 0. 0. 0. 0. 0.]\n",
            " [0. 0. 0. 0. 0. 1. 0. 0. 0. 0.]\n",
            " [0. 0. 0. 0. 0. 0. 0. 0. 0. 0.]\n",
            " [0. 0. 0. 0. 0. 0. 0. 0. 0. 0.]\n",
            " [0. 0. 0. 0. 0. 0. 0. 0. 0. 0.]\n",
            " [0. 0. 0. 0. 0. 0. 0. 0. 0. 0.]\n",
            " [0. 0. 0. 0. 0. 0. 0. 0. 0. 0.]\n",
            " [0. 0. 0. 0. 0. 0. 0. 0. 0. 0.]\n",
            " [0. 1. 0. 0. 0. 0. 0. 0. 0. 1.]]\n"
          ]
        }
      ],
      "source": [
        "n = 10\n",
        "p = 3\n",
        "Z = np.zeros((n,n))\n",
        "np.put(Z, np.random.choice(range(n*n), p, replace=False),1)\n",
        "print (Z)"
      ]
    },
    {
      "cell_type": "markdown",
      "metadata": {
        "id": "nFoRojYND9bL"
      },
      "source": [
        "#### 58. Subtract the mean of each row of a matrix (★★☆) \n",
        "(**hint**: mean(axis=,keepdims=))"
      ]
    },
    {
      "cell_type": "code",
      "execution_count": null,
      "metadata": {
        "id": "K9lMkOHmD9bL",
        "colab": {
          "base_uri": "https://localhost:8080/"
        },
        "outputId": "c8e2cc3e-7e59-4b30-cb1d-c1d5d888e654"
      },
      "outputs": [
        {
          "output_type": "stream",
          "name": "stdout",
          "text": [
            "[[ 0.17314013  0.23814782  0.09107502  0.14177749 -0.29081478 -0.12362317\n",
            "  -0.60476429  0.29108408 -0.06297529  0.146953  ]\n",
            " [-0.19591257 -0.11761937 -0.10631071 -0.30146145  0.41684551  0.46085169\n",
            "  -0.36457558 -0.16743956  0.20924876  0.16637327]\n",
            " [-0.15098119  0.44823863 -0.15072088  0.32871742 -0.2173914  -0.22330512\n",
            "  -0.06984235 -0.27304392  0.16526889  0.14305993]\n",
            " [ 0.04052817  0.30355623  0.07467551 -0.10368367 -0.23924618 -0.04800696\n",
            "  -0.2925874   0.46959001 -0.02633287 -0.17849284]\n",
            " [ 0.47923534  0.28558334 -0.10904456 -0.11329726 -0.14039759  0.18647821\n",
            "  -0.19026936  0.15523531 -0.41060216 -0.14292126]]\n"
          ]
        }
      ],
      "source": [
        "X = np.random.rand(5, 10)\n",
        "Y = X-X.mean(axis=1, keepdims=True)\n",
        "print(Y)"
      ]
    },
    {
      "cell_type": "markdown",
      "metadata": {
        "id": "1vUYUZFsD9bL"
      },
      "source": [
        "#### 59. How to sort an array by the nth column? (★★☆) \n",
        "(**hint**: argsort)"
      ]
    },
    {
      "cell_type": "code",
      "execution_count": null,
      "metadata": {
        "id": "biSbus0-D9bL",
        "colab": {
          "base_uri": "https://localhost:8080/"
        },
        "outputId": "93c59cf3-c0cc-4d98-a949-24557e77b465"
      },
      "outputs": [
        {
          "output_type": "stream",
          "name": "stdout",
          "text": [
            "[[2 7 2]\n",
            " [8 2 6]\n",
            " [1 5 2]]\n",
            "[[8 2 6]\n",
            " [1 5 2]\n",
            " [2 7 2]]\n"
          ]
        }
      ],
      "source": [
        "Z = np.random.randint(0,10,(3,3))\n",
        "print (Z)\n",
        "print (Z[Z[:,1].argsort()])"
      ]
    },
    {
      "cell_type": "markdown",
      "metadata": {
        "id": "boniHkd6D9bL"
      },
      "source": [
        "#### 60. How to tell if a given 2D array has null columns? (★★☆) \n",
        "(**hint**: any, ~)"
      ]
    },
    {
      "cell_type": "code",
      "execution_count": null,
      "metadata": {
        "id": "LOiXNzqeD9bL",
        "colab": {
          "base_uri": "https://localhost:8080/"
        },
        "outputId": "69306d79-a3fb-4e84-ff2e-73eab50ae6ad"
      },
      "outputs": [
        {
          "output_type": "stream",
          "name": "stdout",
          "text": [
            "False\n"
          ]
        }
      ],
      "source": [
        "Z = np.random.randint(0,3,(3,10))\n",
        "print ((~Z.any(axis=0)).any())"
      ]
    },
    {
      "cell_type": "markdown",
      "metadata": {
        "id": "Mx9pY5CHD9bL"
      },
      "source": [
        "#### 61. Find the nearest value from a given value in an array (★★☆) \n",
        "(**hint**: np.abs, argmin, flat)"
      ]
    },
    {
      "cell_type": "code",
      "execution_count": null,
      "metadata": {
        "id": "8r-HHidvD9bM",
        "colab": {
          "base_uri": "https://localhost:8080/"
        },
        "outputId": "67a1fe1c-c2ac-4fa7-b9b5-c46a874c1f2a"
      },
      "outputs": [
        {
          "output_type": "stream",
          "name": "stdout",
          "text": [
            "0.5377303153109949\n"
          ]
        }
      ],
      "source": [
        "Z = np.random.uniform(0,1,10)\n",
        "z = 0.5\n",
        "m = Z.flat[np.abs(Z-z).argmin()]\n",
        "print (m)"
      ]
    },
    {
      "cell_type": "markdown",
      "metadata": {
        "id": "OilHgZ7tD9bM"
      },
      "source": [
        "#### 62. Considering two arrays with shape (1,3) and (3,1), how to compute their sum using an iterator? (★★☆) \n",
        "(**hint**: np.nditer)"
      ]
    },
    {
      "cell_type": "code",
      "execution_count": null,
      "metadata": {
        "id": "24TOpRVKD9bM",
        "colab": {
          "base_uri": "https://localhost:8080/"
        },
        "outputId": "f703bd55-592f-41c3-a1eb-da9d76c31976"
      },
      "outputs": [
        {
          "output_type": "stream",
          "name": "stdout",
          "text": [
            "[[0 1 2]\n",
            " [1 2 3]\n",
            " [2 3 4]]\n"
          ]
        }
      ],
      "source": [
        "A = np.arange(3).reshape(3,1)\n",
        "B = np.arange(3).reshape(1,3)\n",
        "it = np.nditer([A,B,None])\n",
        "for x,y,z in it: \n",
        "    z[...] = x + y\n",
        "print (it.operands[2])\n"
      ]
    },
    {
      "cell_type": "markdown",
      "metadata": {
        "id": "6Y6QK2nzD9bM"
      },
      "source": [
        "#### 63. Create an array class that has a name attribute (★★☆) \n",
        "(**hint**: class method)"
      ]
    },
    {
      "cell_type": "code",
      "execution_count": null,
      "metadata": {
        "id": "dmHdC0vpD9bM",
        "colab": {
          "base_uri": "https://localhost:8080/"
        },
        "outputId": "ef1f7a56-daf4-41e7-ec58-2852ac70258e"
      },
      "outputs": [
        {
          "output_type": "stream",
          "name": "stdout",
          "text": [
            "range_10\n"
          ]
        }
      ],
      "source": [
        "class NamedArray(np.ndarray):\n",
        "    def __new__(cls, array, name=\"no name\"):\n",
        "        obj = np.asarray(array).view(cls)\n",
        "        obj.name = name\n",
        "        return obj\n",
        "    def __array_finalize__(self, obj):\n",
        "        if obj is None: return\n",
        "        self.info = getattr(obj,'name', \"no name\")\n",
        "\n",
        "Z = NamedArray(np.arange(10), \"range_10\")\n",
        "print (Z.name)"
      ]
    },
    {
      "cell_type": "markdown",
      "metadata": {
        "id": "L7h_D0HyD9bM"
      },
      "source": [
        "#### 64. Consider a given vector, how to add 1 to each element indexed by a second vector (be careful with repeated indices)? (★★★) \n",
        "(**hint**: np.bincount | np.add.at)"
      ]
    },
    {
      "cell_type": "code",
      "execution_count": null,
      "metadata": {
        "id": "HxFcPBsOD9bM",
        "colab": {
          "base_uri": "https://localhost:8080/"
        },
        "outputId": "44c94452-813f-4eda-b669-3864e2a5ac77"
      },
      "outputs": [
        {
          "output_type": "stream",
          "name": "stdout",
          "text": [
            "[4. 5. 2. 6. 3. 1. 3. 3. 2. 1.]\n"
          ]
        }
      ],
      "source": [
        "Z = np.ones(10)\n",
        "I = np.random.randint(0,len(Z),20)\n",
        "Z += np.bincount(I, minlength=len(Z))\n",
        "print(Z)"
      ]
    },
    {
      "cell_type": "markdown",
      "metadata": {
        "id": "oZKaapdeD9bN"
      },
      "source": [
        "#### 65. How to accumulate elements of a vector (X) to an array (F) based on an index list (I)? (★★★) \n",
        "(**hint**: np.bincount)"
      ]
    },
    {
      "cell_type": "code",
      "execution_count": null,
      "metadata": {
        "id": "vjDm4HkjD9bN",
        "colab": {
          "base_uri": "https://localhost:8080/"
        },
        "outputId": "83cfec57-4deb-437f-8e1c-4f45d0252179"
      },
      "outputs": [
        {
          "output_type": "stream",
          "name": "stdout",
          "text": [
            "[0. 7. 0. 6. 5. 0. 0. 0. 0. 3.]\n"
          ]
        }
      ],
      "source": [
        "X = [1,2,3,4,5,6]\n",
        "I = [1,3,9,3,4,1]\n",
        "F = np.bincount(I,X)\n",
        "print (F)"
      ]
    },
    {
      "cell_type": "markdown",
      "metadata": {
        "id": "0qsToIKnD9bN"
      },
      "source": [
        "#### 66. Considering a (w,h,3) image of (dtype=ubyte), compute the number of unique colors (★★★) \n",
        "(**hint**: np.unique)"
      ]
    },
    {
      "cell_type": "code",
      "execution_count": null,
      "metadata": {
        "id": "c_y2yrdOD9bN",
        "colab": {
          "base_uri": "https://localhost:8080/"
        },
        "outputId": "ad294078-64af-4736-da5b-090da6943de8"
      },
      "outputs": [
        {
          "output_type": "stream",
          "name": "stdout",
          "text": [
            "8\n"
          ]
        }
      ],
      "source": [
        "w,h = 16,16\n",
        "I = np.random.randint(0,2,(h,w,3)).astype(np.ubyte)\n",
        "F = I[...,0]*(256*256) + I[...,1]*256 +I[...,2]\n",
        "n = len(np.unique(F))\n",
        "print (n)"
      ]
    },
    {
      "cell_type": "markdown",
      "metadata": {
        "id": "4T-FY4FsD9bN"
      },
      "source": [
        "#### 67. Considering a four dimensions array, how to get sum over the last two axis at once? (★★★) \n",
        "(**hint**: sum(axis=(-2,-1)))"
      ]
    },
    {
      "cell_type": "code",
      "execution_count": null,
      "metadata": {
        "id": "SjVp8NsPD9bN",
        "colab": {
          "base_uri": "https://localhost:8080/"
        },
        "outputId": "301c8de2-f299-4b18-bbc9-ec91fb9f93fe"
      },
      "outputs": [
        {
          "output_type": "stream",
          "name": "stdout",
          "text": [
            "[[67 48 61 43]\n",
            " [63 50 47 55]\n",
            " [52 58 46 58]]\n"
          ]
        }
      ],
      "source": [
        "A = np.random.randint(0,10,(3,4,3,4))\n",
        "sum = A.sum(axis=(-2,-1))\n",
        "print (sum)"
      ]
    },
    {
      "cell_type": "markdown",
      "metadata": {
        "id": "xjTCJ51YD9bN"
      },
      "source": [
        "#### 68. Considering a one-dimensional vector D, how to compute means of subsets of D using a vector S of same size describing subset  indices? (★★★) \n",
        "(**hint**: np.bincount)"
      ]
    },
    {
      "cell_type": "code",
      "execution_count": null,
      "metadata": {
        "id": "px2nXsP2D9bO",
        "colab": {
          "base_uri": "https://localhost:8080/"
        },
        "outputId": "2b335a2b-a8c9-4736-d740-73f45b325bf3"
      },
      "outputs": [
        {
          "output_type": "stream",
          "name": "stdout",
          "text": [
            "[0.45845699 0.52824638 0.44455992 0.50865098 0.45823488 0.68205345\n",
            " 0.59063948 0.3179644  0.64111254 0.51842446]\n"
          ]
        }
      ],
      "source": [
        "D = np.random.uniform(0,1,100)\n",
        "S = np.random.randint(0,10,100)\n",
        "D_sums = np.bincount(S, weights=D)\n",
        "D_counts = np.bincount(S)\n",
        "D_means = D_sums/D_counts\n",
        "print (D_means)"
      ]
    },
    {
      "cell_type": "markdown",
      "metadata": {
        "id": "moNyNDVSD9bO"
      },
      "source": [
        "#### 69. How to get the diagonal of a dot product? (★★★) \n",
        "(**hint**: np.diag)"
      ]
    },
    {
      "cell_type": "code",
      "execution_count": null,
      "metadata": {
        "id": "NzNOnr3MD9bO",
        "colab": {
          "base_uri": "https://localhost:8080/"
        },
        "outputId": "5115fe9c-5f86-417d-a9db-16b005710c2a"
      },
      "outputs": [
        {
          "output_type": "execute_result",
          "data": {
            "text/plain": [
              "array([1.50018934, 0.93914378, 1.87564342, 1.52278487, 1.08779657])"
            ]
          },
          "metadata": {},
          "execution_count": 55
        }
      ],
      "source": [
        "A = np.random.uniform(0,1,(5,5))\n",
        "B = np.random.uniform(0,1,(5,5))\n",
        "np.diag(np.dot(A, B))"
      ]
    },
    {
      "cell_type": "markdown",
      "metadata": {
        "id": "ifvBXQ2ND9bO"
      },
      "source": [
        "#### 70. Consider the vector \\[1, 2, 3, 4, 5\\], how to build a new vector with 3 consecutive zeros interleaved between each value? (★★★) \n",
        "(**hint**: array\\[::4\\])"
      ]
    },
    {
      "cell_type": "code",
      "execution_count": null,
      "metadata": {
        "id": "RxynlwTsD9bO",
        "colab": {
          "base_uri": "https://localhost:8080/"
        },
        "outputId": "82677b77-3699-4d8d-c4fa-4942fd734484"
      },
      "outputs": [
        {
          "output_type": "stream",
          "name": "stdout",
          "text": [
            "[1. 0. 0. 0. 2. 0. 0. 0. 3. 0. 0. 0. 4. 0. 0. 0. 5.]\n"
          ]
        }
      ],
      "source": [
        "Z = np.array([1,2,3,4,5])\n",
        "nz = 3\n",
        "Z0 = np.zeros(len(Z) + (len(Z)-1)*(nz))\n",
        "Z0[::nz+1] = Z\n",
        "print (Z0)"
      ]
    },
    {
      "cell_type": "markdown",
      "metadata": {
        "id": "ngleRAxmD9bP"
      },
      "source": [
        "#### 71. Consider an array of dimension (5,5,3), how to mulitply it by an array with dimensions (5,5)? (★★★) \n",
        "(**hint**: array\\[:, :, None\\])"
      ]
    },
    {
      "cell_type": "code",
      "execution_count": null,
      "metadata": {
        "collapsed": true,
        "id": "J3CfSWEGD9bP",
        "colab": {
          "base_uri": "https://localhost:8080/"
        },
        "outputId": "297f98c8-d982-4201-e7c1-f6ae8e2a8f89"
      },
      "outputs": [
        {
          "output_type": "stream",
          "name": "stdout",
          "text": [
            "[[[2. 2. 2.]\n",
            "  [2. 2. 2.]\n",
            "  [2. 2. 2.]\n",
            "  [2. 2. 2.]\n",
            "  [2. 2. 2.]]\n",
            "\n",
            " [[2. 2. 2.]\n",
            "  [2. 2. 2.]\n",
            "  [2. 2. 2.]\n",
            "  [2. 2. 2.]\n",
            "  [2. 2. 2.]]\n",
            "\n",
            " [[2. 2. 2.]\n",
            "  [2. 2. 2.]\n",
            "  [2. 2. 2.]\n",
            "  [2. 2. 2.]\n",
            "  [2. 2. 2.]]\n",
            "\n",
            " [[2. 2. 2.]\n",
            "  [2. 2. 2.]\n",
            "  [2. 2. 2.]\n",
            "  [2. 2. 2.]\n",
            "  [2. 2. 2.]]\n",
            "\n",
            " [[2. 2. 2.]\n",
            "  [2. 2. 2.]\n",
            "  [2. 2. 2.]\n",
            "  [2. 2. 2.]\n",
            "  [2. 2. 2.]]]\n"
          ]
        }
      ],
      "source": [
        "A = np.ones((5,5,3))\n",
        "B = 2*np.ones((5,5))\n",
        "print (A * B[:,:,None])"
      ]
    },
    {
      "cell_type": "markdown",
      "metadata": {
        "id": "9YLBaBZED9bP"
      },
      "source": [
        "#### 72. How to swap two rows of an array? (★★★) \n",
        "(**hint**: array\\[\\[\\]\\] = array\\[\\[\\]\\])"
      ]
    },
    {
      "cell_type": "code",
      "execution_count": null,
      "metadata": {
        "id": "Zh8gXMGMD9bP",
        "colab": {
          "base_uri": "https://localhost:8080/"
        },
        "outputId": "5fb811ac-65af-4db0-9975-e0585766d61b"
      },
      "outputs": [
        {
          "output_type": "stream",
          "name": "stdout",
          "text": [
            "[[ 5  6  7  8  9]\n",
            " [ 0  1  2  3  4]\n",
            " [10 11 12 13 14]\n",
            " [15 16 17 18 19]\n",
            " [20 21 22 23 24]]\n"
          ]
        }
      ],
      "source": [
        "A = np.arange(25).reshape(5,5)\n",
        "A[[0,1]] = A[[1,0]]\n",
        "print (A)"
      ]
    },
    {
      "cell_type": "markdown",
      "metadata": {
        "id": "9dK_jtg-D9bP"
      },
      "source": [
        "#### 73. Consider a set of 10 triplets describing 10 triangles (with shared vertices), find the set of unique line segments composing all the  triangles (★★★) \n",
        "(**hint**: repeat, np.roll, np.sort, view, np.unique)"
      ]
    },
    {
      "cell_type": "code",
      "execution_count": null,
      "metadata": {
        "id": "QlLEoH_UD9bQ",
        "colab": {
          "base_uri": "https://localhost:8080/"
        },
        "outputId": "4e325c90-71fe-4027-eea7-143449ba5b57"
      },
      "outputs": [
        {
          "output_type": "stream",
          "name": "stdout",
          "text": [
            "[( 0, 36) ( 0, 39) ( 0, 41) ( 0, 56) ( 0, 60) ( 0, 72) ( 3, 70) ( 3, 85)\n",
            " (11, 61) (11, 90) (12, 20) (12, 38) (20, 38) (23, 34) (23, 62) (30, 80)\n",
            " (30, 95) (34, 37) (34, 62) (34, 94) (36, 56) (37, 94) (39, 60) (41, 72)\n",
            " (59, 77) (59, 90) (61, 90) (70, 85) (77, 90) (80, 95)]\n"
          ]
        }
      ],
      "source": [
        "faces = np.random.randint(0,100,(10,3))\n",
        "F = np.roll(faces.repeat(2,axis=1),-1,axis=1)\n",
        "F = F.reshape(len(F)*3,2)\n",
        "F = np.sort(F,axis=1)\n",
        "G = F.view( dtype=[('p0',F.dtype),('p1',F.dtype)])\n",
        "G = np.unique(G)\n",
        "print (G)"
      ]
    },
    {
      "cell_type": "markdown",
      "metadata": {
        "id": "8bVbiIlED9bQ"
      },
      "source": [
        "#### 74. Given an array C that is a bincount, how to produce an array A such that np.bincount(A) == C? (★★★) \n",
        "(**hint**: np.repeat)"
      ]
    },
    {
      "cell_type": "code",
      "execution_count": null,
      "metadata": {
        "id": "xHREXwLpD9bQ",
        "colab": {
          "base_uri": "https://localhost:8080/"
        },
        "outputId": "5c8b92d1-5ee6-42e1-98af-056c1f8e769a"
      },
      "outputs": [
        {
          "output_type": "stream",
          "name": "stdout",
          "text": [
            "[1 1 2 3 4 4 6]\n"
          ]
        }
      ],
      "source": [
        "C = np.bincount([1,1,2,3,4,4,6])\n",
        "A = np.repeat(np.arange(len(C)), C)\n",
        "print (A)"
      ]
    },
    {
      "cell_type": "markdown",
      "metadata": {
        "id": "NgN3cR7pD9bR"
      },
      "source": [
        "#### 75. How to compute averages using a sliding window over an array? (★★★) \n",
        "(**hint**: np.cumsum)"
      ]
    },
    {
      "cell_type": "code",
      "execution_count": null,
      "metadata": {
        "id": "pmYPSgjPD9bR",
        "colab": {
          "base_uri": "https://localhost:8080/"
        },
        "outputId": "9b0d9efd-57d1-4daa-a983-d7626dd3de46"
      },
      "outputs": [
        {
          "output_type": "stream",
          "name": "stdout",
          "text": [
            "[ 1.  2.  3.  4.  5.  6.  7.  8.  9. 10. 11. 12. 13. 14. 15. 16. 17. 18.]\n"
          ]
        }
      ],
      "source": [
        "def moving_average(a, n=3):\n",
        "    ret = np.cumsum(a, dtype=float)\n",
        "    ret[n:] = ret[n:]-ret[:-n]\n",
        "    return ret[n-1:]/n\n",
        "Z = np.arange(20)\n",
        "print(moving_average(Z, n=3))"
      ]
    },
    {
      "cell_type": "markdown",
      "metadata": {
        "id": "KxVeahF9D9bR"
      },
      "source": [
        "#### 76. Consider a one-dimensional array Z, build a two-dimensional array whose first row is (Z\\[0\\],Z\\[1\\],Z\\[2\\]) and each subsequent row is  shifted by 1 (last row should be (Z\\[-3\\],Z\\[-2\\],Z\\[-1\\]) (★★★) \n",
        "(**hint**: from numpy.lib import stride_tricks)"
      ]
    },
    {
      "cell_type": "code",
      "execution_count": null,
      "metadata": {
        "id": "_PsBrK1XD9bR",
        "colab": {
          "base_uri": "https://localhost:8080/"
        },
        "outputId": "d4a59555-f27e-42e9-ba09-7e4cd2087e3b"
      },
      "outputs": [
        {
          "output_type": "stream",
          "name": "stdout",
          "text": [
            "[[0 1 2]\n",
            " [1 2 3]\n",
            " [2 3 4]\n",
            " [3 4 5]\n",
            " [4 5 6]\n",
            " [5 6 7]\n",
            " [6 7 8]\n",
            " [7 8 9]]\n"
          ]
        }
      ],
      "source": [
        "from numpy.lib import stride_tricks\n",
        "def rolling(a, window):\n",
        "    shape = (a.size-window + 1, window)\n",
        "    strides = (a.itemsize, a.itemsize)\n",
        "    return stride_tricks.as_strided(a, shape=shape, strides=strides)\n",
        "Z = rolling(np.arange(10), 3)\n",
        "print (Z)"
      ]
    },
    {
      "cell_type": "markdown",
      "metadata": {
        "id": "VA40jltqD9bR"
      },
      "source": [
        "#### 77. How to negate a boolean, or to change the sign of a float inplace? (★★★) \n",
        "(**hint**: np.logical_not, np.negative)"
      ]
    },
    {
      "cell_type": "code",
      "execution_count": null,
      "metadata": {
        "id": "x3He0SIyD9bS",
        "colab": {
          "base_uri": "https://localhost:8080/"
        },
        "outputId": "428c481d-1696-4622-dccf-2973041c9cfd"
      },
      "outputs": [
        {
          "output_type": "execute_result",
          "data": {
            "text/plain": [
              "array([ 0.86569411,  0.50734809, -0.72568184, -0.21563259, -0.19765241,\n",
              "       -0.71644219, -0.13466878,  0.4471531 , -0.60391458, -0.64826304,\n",
              "       -0.92789554,  0.82484172,  0.16970381,  0.24361769, -0.05318835,\n",
              "       -0.82458322, -0.28217787,  0.3448095 ,  0.10040929, -0.0984466 ,\n",
              "       -0.26642792, -0.22358557, -0.23470081, -0.3453287 , -0.57087862,\n",
              "       -0.78197885,  0.58011803,  0.95336695, -0.21139765,  0.76248525,\n",
              "       -0.22743487,  0.59154697,  0.90032118, -0.84842604,  0.21932486,\n",
              "        0.85994714, -0.72027594, -0.16014881,  0.13316389, -0.37006313,\n",
              "       -0.14636369, -0.58489525, -0.06836272,  0.59469268, -0.06029685,\n",
              "        0.57265661, -0.52488581, -0.87432546, -0.71751339,  0.58805459,\n",
              "        0.64595313,  0.40599436,  0.26768477, -0.57283374, -0.11812368,\n",
              "        0.79312059, -0.26146898, -0.6620351 , -0.40310224,  0.85057882,\n",
              "       -0.34337725, -0.08391675, -0.83344967, -0.64774524, -0.82056651,\n",
              "       -0.33296455,  0.12821859, -0.22672176, -0.69770618,  0.22706636,\n",
              "       -0.10207375, -0.54086787, -0.28419025,  0.53112832,  0.49317783,\n",
              "       -0.79868759,  0.2348003 ,  0.06557014, -0.42379094,  0.49984518,\n",
              "        0.99871849,  0.24850513,  0.89571514, -0.44372226, -0.00791532,\n",
              "        0.73681467,  0.40965239,  0.74256008,  0.30657262,  0.45799455,\n",
              "       -0.10760271, -0.14027057, -0.40068895,  0.69135031,  0.10987034,\n",
              "       -0.96381272,  0.21660146, -0.85299943,  0.35805282,  0.15373556])"
            ]
          },
          "metadata": {},
          "execution_count": 63
        }
      ],
      "source": [
        "Z = np.random.randint(0,2,100)\n",
        "np.logical_not(Z, out=Z)\n",
        "Z = np.random.uniform(-1.0,1.0,100)\n",
        "np.negative(Z, out=Z)"
      ]
    },
    {
      "cell_type": "markdown",
      "metadata": {
        "id": "qFg0yrdSD9bT"
      },
      "source": [
        "#### 78. Consider 2 sets of points P0,P1 describing lines (2d) and a point p, how to compute distance from p to each line i  (P0\\[i\\],P1\\[i\\])? (★★★)"
      ]
    },
    {
      "cell_type": "code",
      "execution_count": null,
      "metadata": {
        "id": "ndlS7FDQD9bT",
        "colab": {
          "base_uri": "https://localhost:8080/"
        },
        "outputId": "28800a9e-1491-4d25-cefc-63f86da24d91"
      },
      "outputs": [
        {
          "output_type": "stream",
          "name": "stdout",
          "text": [
            "[ 2.80126463 12.24505832  3.53325058  0.10802237  4.01745411  2.14010785\n",
            "  9.64906453 13.05689676  3.40173085  7.21908186]\n"
          ]
        }
      ],
      "source": [
        "def distance(P0, P1, p):\n",
        "    T = P1-P0\n",
        "    L = (T**2).sum(axis=1)\n",
        "    U = -((P0[:,0]-p[...,0])*T[:,0] + (P0[:,1]-p[...,1])*T[: ,1])/L\n",
        "    U = U.reshape(len(U),1)\n",
        "    D = P0 + U*T-p\n",
        "    return np.sqrt((D**2).sum(axis=1))\n",
        "\n",
        "P0 = np.random.uniform(-10,10,(10,2))\n",
        "P1 = np.random.uniform(-10,10,(10,2))\n",
        "p = np.random.uniform(-10,10,( 1,2))\n",
        "\n",
        "print (distance(P0, P1, p))"
      ]
    },
    {
      "cell_type": "markdown",
      "metadata": {
        "id": "mpopOhThD9bU"
      },
      "source": [
        "#### 79. Consider 2 sets of points P0,P1 describing lines (2d) and a set of points P, how to compute distance from each point j (P\\[j\\]) to each line i (P0\\[i\\],P1\\[i\\])? (★★★)"
      ]
    },
    {
      "cell_type": "code",
      "execution_count": null,
      "metadata": {
        "id": "XuujfvlID9bU",
        "colab": {
          "base_uri": "https://localhost:8080/"
        },
        "outputId": "14eaf3aa-a6c8-4820-95c5-a50b7523d51c"
      },
      "outputs": [
        {
          "output_type": "stream",
          "name": "stdout",
          "text": [
            "[[ 5.04346297  1.79028408 10.97817328 12.21191807  6.66395998 14.77284389\n",
            "   5.48456222  9.27760607  1.82488258  6.77512559]\n",
            " [ 3.89738577  2.28024293  9.78645027 12.99992124  5.48436353 14.43269323\n",
            "   4.69389654  8.40842217  1.08724195  6.22413806]\n",
            " [ 6.6197655   4.18736232 13.61303019  6.24555077  8.91470487 10.78894102\n",
            "   3.76856238  8.09383291  7.83294439  3.71885762]\n",
            " [ 7.29169558  1.89694218  0.16592442 12.44414577  4.97039305  3.59067379\n",
            "   7.76174799  4.09705492  2.3221735   5.59896556]\n",
            " [ 8.48327415  4.11963478  2.43892338 18.33324022  6.84925935  7.85948905\n",
            "   5.67281593  2.53026165  3.62977706  2.21146435]\n",
            " [ 7.191175    0.11930473  0.44801595 14.27071565  5.1108898   5.34892605\n",
            "   6.60393318  3.09706485  0.44810444  4.06979374]\n",
            " [ 8.10630653  2.69013472  1.80881243 16.90643476  6.31100514  6.9067807\n",
            "   6.08317341  2.81334162  2.19300122  2.942336  ]\n",
            " [12.29785702 12.00575982  3.07173893  4.60998319  8.67182212  8.17639892\n",
            "  17.69004227 13.38855913 10.63259127 16.81433869]\n",
            " [ 1.76364698  5.23791649  5.7658528   7.74321291  0.83516062  4.41075203\n",
            "   4.46479453  0.34317053  6.80063958  3.64438268]\n",
            " [ 4.5877521  12.1549034  13.15907831  0.49180932  7.87009738  2.76909572\n",
            "   2.3039811   2.58886273 14.84446556  3.61245505]]\n"
          ]
        }
      ],
      "source": [
        "P0 = np.random.uniform(-10, 10, (10,2))\n",
        "P1 = np.random.uniform(-10,10,(10,2))\n",
        "p = np.random.uniform(-10, 10, (10,2))\n",
        "print (np.array([distance(P0,P1,p_i) for p_i in p]))"
      ]
    },
    {
      "cell_type": "markdown",
      "metadata": {
        "id": "OsOb9c8oD9bU"
      },
      "source": [
        "#### 80. Consider an arbitrary array, write a function that extract a subpart with a fixed shape and centered on a given element (pad with a `fill` value when necessary) (★★★) \n",
        "(**hint**: minimum, maximum)"
      ]
    },
    {
      "cell_type": "code",
      "execution_count": null,
      "metadata": {
        "id": "CqFqxh2aD9bU",
        "colab": {
          "base_uri": "https://localhost:8080/"
        },
        "outputId": "14898c3e-2b39-4cbf-b5fe-07d184e0671a"
      },
      "outputs": [
        {
          "output_type": "stream",
          "name": "stdout",
          "text": [
            "[[0 7 4 5 9 6 6 8 7 2]\n",
            " [6 2 0 5 4 8 7 4 7 4]\n",
            " [3 7 5 2 9 4 9 6 6 7]\n",
            " [5 8 8 4 0 4 8 9 6 7]\n",
            " [3 2 8 2 8 7 2 2 1 3]\n",
            " [2 3 9 7 0 1 4 7 3 1]\n",
            " [7 2 4 4 6 3 3 6 8 3]\n",
            " [3 2 8 8 5 9 0 4 9 7]\n",
            " [1 8 5 8 1 4 1 5 1 0]\n",
            " [8 8 1 7 1 6 3 8 0 7]]\n",
            "[[0 0 0 0 0]\n",
            " [0 0 7 4 5]\n",
            " [0 6 2 0 5]\n",
            " [0 3 7 5 2]\n",
            " [0 5 8 8 4]]\n"
          ]
        },
        {
          "output_type": "stream",
          "name": "stderr",
          "text": [
            "/usr/local/lib/python3.7/dist-packages/ipykernel_launcher.py:23: FutureWarning: Using a non-tuple sequence for multidimensional indexing is deprecated; use `arr[tuple(seq)]` instead of `arr[seq]`. In the future this will be interpreted as an array index, `arr[np.array(seq)]`, which will result either in an error or a different result.\n"
          ]
        }
      ],
      "source": [
        "Z = np.random.randint(0,10,(10,10))\n",
        "shape = (5,5)\n",
        "fill = 0\n",
        "position = (1,1)\n",
        "\n",
        "R = np.ones(shape, dtype=Z.dtype)*fill\n",
        "P = np.array(list(position)).astype(int)\n",
        "Rs = np.array(list(R.shape)).astype(int)\n",
        "Zs = np.array(list(Z.shape)).astype(int)\n",
        "\n",
        "R_start = np.zeros((len(shape),)).astype(int)\n",
        "R_stop = np.array(list(shape)).astype(int)\n",
        "Z_start = (P-Rs//2)\n",
        "Z_stop = (P+Rs//2)+Rs%2\n",
        "\n",
        "R_start = (R_start-np.minimum(Z_start,0)).tolist()\n",
        "Z_start = (np.maximum(Z_start,0)).tolist()\n",
        "R_stop = np.maximum(R_start, (R_stop-np.maximum(Z_stop-Zs,0))).tolist()\n",
        "Z_stop = (np.minimum(Z_stop,Zs)).tolist()\n",
        "\n",
        "r = [slice(start,stop) for start,stop in zip(R_start,R_stop)]\n",
        "z = [slice(start,stop) for start,stop in zip(Z_start,Z_stop)]\n",
        "R[r] = Z[z]\n",
        "print (Z)\n",
        "print (R)"
      ]
    },
    {
      "cell_type": "markdown",
      "metadata": {
        "id": "Ft6PGAdkD9bU"
      },
      "source": [
        "#### 81. Consider an array Z = \\[1,2,3,4,5,6,7,8,9,10,11,12,13,14\\], how to generate an array R = \\[\\[1,2,3,4\\], \\[2,3,4,5\\], \\[3,4,5,6\\], ..., \\[11,12,13,14\\]\\]? (★★★) \n",
        "(**hint**: stride\\_tricks.as\\_strided)"
      ]
    },
    {
      "cell_type": "code",
      "execution_count": null,
      "metadata": {
        "id": "CNFOajLKD9bU",
        "colab": {
          "base_uri": "https://localhost:8080/"
        },
        "outputId": "9191daba-343b-4735-b625-dad30346ecbc"
      },
      "outputs": [
        {
          "output_type": "stream",
          "name": "stdout",
          "text": [
            "[[ 1  2  3  4]\n",
            " [ 2  3  4  5]\n",
            " [ 3  4  5  6]\n",
            " [ 4  5  6  7]\n",
            " [ 5  6  7  8]\n",
            " [ 6  7  8  9]\n",
            " [ 7  8  9 10]\n",
            " [ 8  9 10 11]\n",
            " [ 9 10 11 12]\n",
            " [10 11 12 13]\n",
            " [11 12 13 14]]\n"
          ]
        }
      ],
      "source": [
        "Z = np.arange(1,15,dtype=np.uint32)\n",
        "R = stride_tricks.as_strided(Z,(11,4),(4,4))\n",
        "print (R)"
      ]
    },
    {
      "cell_type": "markdown",
      "metadata": {
        "id": "IuLql1KCD9bU"
      },
      "source": [
        "#### 82. Compute a matrix rank (★★★) \n",
        "(**hint**: np.linalg.svd) (suggestion: np.linalg.svd)"
      ]
    },
    {
      "cell_type": "code",
      "execution_count": null,
      "metadata": {
        "id": "1-JbK5ZnD9bV",
        "colab": {
          "base_uri": "https://localhost:8080/"
        },
        "outputId": "05c3c369-bd38-4176-8a3a-b9405eaa2cea"
      },
      "outputs": [
        {
          "output_type": "stream",
          "name": "stdout",
          "text": [
            "10\n"
          ]
        }
      ],
      "source": [
        "Z = np.random.uniform(0,1,(10,10))\n",
        "U, S, V = np.linalg.svd(Z) # Singular Value Decomposition\n",
        "rank = np.sum(S> 1e-10)\n",
        "print (rank)"
      ]
    },
    {
      "cell_type": "markdown",
      "metadata": {
        "id": "o8lRi7i3D9bV"
      },
      "source": [
        "#### 83. How to find the most frequent value in an array? \n",
        "(**hint**: np.bincount, argmax)"
      ]
    },
    {
      "cell_type": "code",
      "execution_count": null,
      "metadata": {
        "id": "oehPMmrcD9bV",
        "colab": {
          "base_uri": "https://localhost:8080/"
        },
        "outputId": "cadca8d3-b981-44fb-f7cb-3579494cd79b"
      },
      "outputs": [
        {
          "output_type": "stream",
          "name": "stdout",
          "text": [
            "7\n"
          ]
        }
      ],
      "source": [
        "Z = np.random.randint(0,10,50)\n",
        "print (np.bincount(Z).argmax())"
      ]
    },
    {
      "cell_type": "markdown",
      "metadata": {
        "id": "cGuoHpqwD9bV"
      },
      "source": [
        "#### 84. Extract all the contiguous 3x3 blocks from a random 10x10 matrix (★★★) \n",
        "(**hint**: stride\\_tricks.as\\_strided)"
      ]
    },
    {
      "cell_type": "code",
      "execution_count": null,
      "metadata": {
        "id": "cQ-1SRVVD9bV",
        "colab": {
          "base_uri": "https://localhost:8080/"
        },
        "outputId": "58c8d056-4c22-4355-9a57-00858c39a882"
      },
      "outputs": [
        {
          "output_type": "stream",
          "name": "stdout",
          "text": [
            "[[[[2 0 3]\n",
            "   [0 1 3]\n",
            "   [4 0 2]]\n",
            "\n",
            "  [[0 3 3]\n",
            "   [1 3 3]\n",
            "   [0 2 4]]\n",
            "\n",
            "  [[3 3 4]\n",
            "   [3 3 2]\n",
            "   [2 4 2]]\n",
            "\n",
            "  [[3 4 2]\n",
            "   [3 2 3]\n",
            "   [4 2 2]]\n",
            "\n",
            "  [[4 2 1]\n",
            "   [2 3 1]\n",
            "   [2 2 2]]\n",
            "\n",
            "  [[2 1 4]\n",
            "   [3 1 0]\n",
            "   [2 2 0]]\n",
            "\n",
            "  [[1 4 4]\n",
            "   [1 0 3]\n",
            "   [2 0 4]]\n",
            "\n",
            "  [[4 4 1]\n",
            "   [0 3 4]\n",
            "   [0 4 1]]]\n",
            "\n",
            "\n",
            " [[[0 1 3]\n",
            "   [4 0 2]\n",
            "   [3 1 3]]\n",
            "\n",
            "  [[1 3 3]\n",
            "   [0 2 4]\n",
            "   [1 3 4]]\n",
            "\n",
            "  [[3 3 2]\n",
            "   [2 4 2]\n",
            "   [3 4 3]]\n",
            "\n",
            "  [[3 2 3]\n",
            "   [4 2 2]\n",
            "   [4 3 0]]\n",
            "\n",
            "  [[2 3 1]\n",
            "   [2 2 2]\n",
            "   [3 0 1]]\n",
            "\n",
            "  [[3 1 0]\n",
            "   [2 2 0]\n",
            "   [0 1 3]]\n",
            "\n",
            "  [[1 0 3]\n",
            "   [2 0 4]\n",
            "   [1 3 0]]\n",
            "\n",
            "  [[0 3 4]\n",
            "   [0 4 1]\n",
            "   [3 0 3]]]\n",
            "\n",
            "\n",
            " [[[4 0 2]\n",
            "   [3 1 3]\n",
            "   [1 3 4]]\n",
            "\n",
            "  [[0 2 4]\n",
            "   [1 3 4]\n",
            "   [3 4 3]]\n",
            "\n",
            "  [[2 4 2]\n",
            "   [3 4 3]\n",
            "   [4 3 4]]\n",
            "\n",
            "  [[4 2 2]\n",
            "   [4 3 0]\n",
            "   [3 4 1]]\n",
            "\n",
            "  [[2 2 2]\n",
            "   [3 0 1]\n",
            "   [4 1 0]]\n",
            "\n",
            "  [[2 2 0]\n",
            "   [0 1 3]\n",
            "   [1 0 4]]\n",
            "\n",
            "  [[2 0 4]\n",
            "   [1 3 0]\n",
            "   [0 4 1]]\n",
            "\n",
            "  [[0 4 1]\n",
            "   [3 0 3]\n",
            "   [4 1 2]]]\n",
            "\n",
            "\n",
            " [[[3 1 3]\n",
            "   [1 3 4]\n",
            "   [4 1 1]]\n",
            "\n",
            "  [[1 3 4]\n",
            "   [3 4 3]\n",
            "   [1 1 2]]\n",
            "\n",
            "  [[3 4 3]\n",
            "   [4 3 4]\n",
            "   [1 2 0]]\n",
            "\n",
            "  [[4 3 0]\n",
            "   [3 4 1]\n",
            "   [2 0 0]]\n",
            "\n",
            "  [[3 0 1]\n",
            "   [4 1 0]\n",
            "   [0 0 2]]\n",
            "\n",
            "  [[0 1 3]\n",
            "   [1 0 4]\n",
            "   [0 2 1]]\n",
            "\n",
            "  [[1 3 0]\n",
            "   [0 4 1]\n",
            "   [2 1 4]]\n",
            "\n",
            "  [[3 0 3]\n",
            "   [4 1 2]\n",
            "   [1 4 3]]]\n",
            "\n",
            "\n",
            " [[[1 3 4]\n",
            "   [4 1 1]\n",
            "   [3 4 3]]\n",
            "\n",
            "  [[3 4 3]\n",
            "   [1 1 2]\n",
            "   [4 3 0]]\n",
            "\n",
            "  [[4 3 4]\n",
            "   [1 2 0]\n",
            "   [3 0 2]]\n",
            "\n",
            "  [[3 4 1]\n",
            "   [2 0 0]\n",
            "   [0 2 2]]\n",
            "\n",
            "  [[4 1 0]\n",
            "   [0 0 2]\n",
            "   [2 2 1]]\n",
            "\n",
            "  [[1 0 4]\n",
            "   [0 2 1]\n",
            "   [2 1 2]]\n",
            "\n",
            "  [[0 4 1]\n",
            "   [2 1 4]\n",
            "   [1 2 3]]\n",
            "\n",
            "  [[4 1 2]\n",
            "   [1 4 3]\n",
            "   [2 3 4]]]\n",
            "\n",
            "\n",
            " [[[4 1 1]\n",
            "   [3 4 3]\n",
            "   [3 0 1]]\n",
            "\n",
            "  [[1 1 2]\n",
            "   [4 3 0]\n",
            "   [0 1 2]]\n",
            "\n",
            "  [[1 2 0]\n",
            "   [3 0 2]\n",
            "   [1 2 3]]\n",
            "\n",
            "  [[2 0 0]\n",
            "   [0 2 2]\n",
            "   [2 3 3]]\n",
            "\n",
            "  [[0 0 2]\n",
            "   [2 2 1]\n",
            "   [3 3 2]]\n",
            "\n",
            "  [[0 2 1]\n",
            "   [2 1 2]\n",
            "   [3 2 0]]\n",
            "\n",
            "  [[2 1 4]\n",
            "   [1 2 3]\n",
            "   [2 0 0]]\n",
            "\n",
            "  [[1 4 3]\n",
            "   [2 3 4]\n",
            "   [0 0 3]]]\n",
            "\n",
            "\n",
            " [[[3 4 3]\n",
            "   [3 0 1]\n",
            "   [0 3 3]]\n",
            "\n",
            "  [[4 3 0]\n",
            "   [0 1 2]\n",
            "   [3 3 4]]\n",
            "\n",
            "  [[3 0 2]\n",
            "   [1 2 3]\n",
            "   [3 4 3]]\n",
            "\n",
            "  [[0 2 2]\n",
            "   [2 3 3]\n",
            "   [4 3 0]]\n",
            "\n",
            "  [[2 2 1]\n",
            "   [3 3 2]\n",
            "   [3 0 2]]\n",
            "\n",
            "  [[2 1 2]\n",
            "   [3 2 0]\n",
            "   [0 2 4]]\n",
            "\n",
            "  [[1 2 3]\n",
            "   [2 0 0]\n",
            "   [2 4 2]]\n",
            "\n",
            "  [[2 3 4]\n",
            "   [0 0 3]\n",
            "   [4 2 3]]]\n",
            "\n",
            "\n",
            " [[[3 0 1]\n",
            "   [0 3 3]\n",
            "   [1 3 4]]\n",
            "\n",
            "  [[0 1 2]\n",
            "   [3 3 4]\n",
            "   [3 4 2]]\n",
            "\n",
            "  [[1 2 3]\n",
            "   [3 4 3]\n",
            "   [4 2 4]]\n",
            "\n",
            "  [[2 3 3]\n",
            "   [4 3 0]\n",
            "   [2 4 4]]\n",
            "\n",
            "  [[3 3 2]\n",
            "   [3 0 2]\n",
            "   [4 4 4]]\n",
            "\n",
            "  [[3 2 0]\n",
            "   [0 2 4]\n",
            "   [4 4 3]]\n",
            "\n",
            "  [[2 0 0]\n",
            "   [2 4 2]\n",
            "   [4 3 3]]\n",
            "\n",
            "  [[0 0 3]\n",
            "   [4 2 3]\n",
            "   [3 3 4]]]]\n"
          ]
        }
      ],
      "source": [
        "Z = np.random.randint(0,5,(10,10))\n",
        "n = 3\n",
        "i = 1 + (Z.shape[0]-3)\n",
        "j = 1 + (Z.shape[1]-3)\n",
        "C = stride_tricks.as_strided(Z, shape=(i, j, n, n), strides=Z.strides + Z.strides)\n",
        "print (C)"
      ]
    },
    {
      "cell_type": "markdown",
      "metadata": {
        "id": "wE9m2SVUD9bV"
      },
      "source": [
        "#### 85. Create a 2D array subclass such that Z\\[i,j\\] == Z\\[j,i\\] (★★★) \n",
        "(**hint**: class method)"
      ]
    },
    {
      "cell_type": "code",
      "execution_count": 2,
      "metadata": {
        "id": "fvhGgoCXD9bW",
        "colab": {
          "base_uri": "https://localhost:8080/"
        },
        "outputId": "97b20c4d-dfb9-45af-eed9-db45e6cd8d6e"
      },
      "outputs": [
        {
          "output_type": "stream",
          "name": "stdout",
          "text": [
            "[[ 0 14  5  7  9]\n",
            " [14  8  6 15 12]\n",
            " [ 5  6  1 42  4]\n",
            " [ 7 15 42  8 13]\n",
            " [ 9 12  4 13  0]]\n"
          ]
        }
      ],
      "source": [
        "class Symetric(np.ndarray):\n",
        "    def __setitem__(self, index, value):\n",
        "        i,j = index\n",
        "        super(Symetric, self).__setitem__((i,j), value)\n",
        "        super(Symetric, self).__setitem__((j,i), value)\n",
        "\n",
        "def symetric(Z):\n",
        "    return np.asarray(Z + Z.T-np.diag(Z.diagonal())).view(Symetric)\n",
        "\n",
        "S = symetric(np.random.randint(0,10,(5,5)))\n",
        "S[2,3] = 42\n",
        "print (S)"
      ]
    },
    {
      "cell_type": "markdown",
      "metadata": {
        "id": "vZTlE3UFD9bW"
      },
      "source": [
        "#### 86. Consider a set of p matrices wich shape (n,n) and a set of p vectors with shape (n,1). How to compute the sum of of the p matrix products at once? (result has shape (n,1)) (★★★) \n",
        "(**hint**: np.tensordot)"
      ]
    },
    {
      "cell_type": "code",
      "execution_count": null,
      "metadata": {
        "id": "WWQZ37uVD9bW",
        "colab": {
          "base_uri": "https://localhost:8080/"
        },
        "outputId": "09f83121-3c28-4c27-d121-f5591c98cfdf"
      },
      "outputs": [
        {
          "output_type": "stream",
          "name": "stdout",
          "text": [
            "[[200.]\n",
            " [200.]\n",
            " [200.]\n",
            " [200.]\n",
            " [200.]\n",
            " [200.]\n",
            " [200.]\n",
            " [200.]\n",
            " [200.]\n",
            " [200.]\n",
            " [200.]\n",
            " [200.]\n",
            " [200.]\n",
            " [200.]\n",
            " [200.]\n",
            " [200.]\n",
            " [200.]\n",
            " [200.]\n",
            " [200.]\n",
            " [200.]]\n"
          ]
        }
      ],
      "source": [
        "p, n = 10, 20\n",
        "M = np.ones((p,n,n))\n",
        "V = np.ones((p,n,1))\n",
        "S = np.tensordot(M, V, axes=[[0, 2], [0, 1]])\n",
        "print (S)"
      ]
    },
    {
      "cell_type": "markdown",
      "metadata": {
        "id": "vw7Se8EfD9bW"
      },
      "source": [
        "#### 87. Consider a 16x16 array, how to get the block-sum (block size is 4x4)? (★★★) \n",
        "(**hint**: np.add.reduceat)"
      ]
    },
    {
      "cell_type": "code",
      "execution_count": null,
      "metadata": {
        "id": "37ccMDm3D9bX",
        "colab": {
          "base_uri": "https://localhost:8080/"
        },
        "outputId": "64f5d638-644b-4dd2-d117-0871c39e7a35"
      },
      "outputs": [
        {
          "output_type": "stream",
          "name": "stdout",
          "text": [
            "[[16. 16. 16. 16.]\n",
            " [16. 16. 16. 16.]\n",
            " [16. 16. 16. 16.]\n",
            " [16. 16. 16. 16.]]\n"
          ]
        }
      ],
      "source": [
        "Z = np.ones((16,16))\n",
        "k = 4\n",
        "S = np.add.reduceat(np.add.reduceat(Z, np.arange(0, Z.shape[0], k), axis=0),\n",
        "                                       np.arange(0, Z.shape[1], k), axis=1)\n",
        "print (S)"
      ]
    },
    {
      "cell_type": "markdown",
      "metadata": {
        "id": "PEd2NfHSD9bX"
      },
      "source": [
        "#### 88. How to implement the Game of Life using numpy arrays? (★★★)"
      ]
    },
    {
      "cell_type": "code",
      "execution_count": null,
      "metadata": {
        "id": "ycVI2tunD9bX",
        "colab": {
          "base_uri": "https://localhost:8080/"
        },
        "outputId": "78125488-44e4-454e-ca5c-39125590d405"
      },
      "outputs": [
        {
          "output_type": "stream",
          "name": "stdout",
          "text": [
            "[[0 0 0 ... 0 0 0]\n",
            " [0 0 0 ... 1 1 0]\n",
            " [0 0 0 ... 1 1 0]\n",
            " ...\n",
            " [0 0 0 ... 0 0 0]\n",
            " [0 0 0 ... 0 0 0]\n",
            " [0 0 0 ... 0 0 0]]\n"
          ]
        }
      ],
      "source": [
        "def iterate(Z):\n",
        "    # Count neighbours\n",
        "    N = (Z[0:-2,0:-2] + Z[0:-2,1:-1] + Z[0:-2,2:] +\n",
        "         Z[1:-1,0:-2] + Z[1:-1,2:] +\n",
        "         Z[2: ,0:-2] + Z[2: ,1:-1] + Z[2: ,2:])\n",
        "\n",
        "    # Apply rules\n",
        "    birth = (N==3) & (Z[1:-1,1:-1]==0)\n",
        "    survive = ((N==2) | (N==3)) & (Z[1:-1,1:-1]==1)\n",
        "    Z[...] = 0\n",
        "    Z[1:-1,1:-1][birth | survive] = 1\n",
        "    return Z\n",
        "\n",
        "Z = np.random.randint(0,2,(50,50))\n",
        "for i in range(100): Z = iterate(Z)\n",
        "print (Z)"
      ]
    },
    {
      "cell_type": "markdown",
      "metadata": {
        "id": "ZEFO6jIvD9bX"
      },
      "source": [
        "#### 89. How to get the n largest values of an array (★★★) \n",
        "(**hint**: np.argsort | np.argpartition)"
      ]
    },
    {
      "cell_type": "code",
      "execution_count": 3,
      "metadata": {
        "id": "gcvIACieD9bY",
        "colab": {
          "base_uri": "https://localhost:8080/"
        },
        "outputId": "0b3605d7-0880-4dc6-895f-de928f36a969"
      },
      "outputs": [
        {
          "output_type": "stream",
          "name": "stdout",
          "text": [
            "[9995 9996 9997 9998 9999]\n"
          ]
        }
      ],
      "source": [
        "Z = np.arange(10000)\n",
        "np.random.shuffle(Z)\n",
        "n = 5\n",
        "print (Z[np.argsort(Z)[-n:]])"
      ]
    },
    {
      "cell_type": "markdown",
      "metadata": {
        "id": "lhAzmBVND9bY"
      },
      "source": [
        "#### 90. Given an arbitrary number of vectors, build the cartesian product (every combinations of every item) (★★★) \n",
        "(**hint**: np.indices)"
      ]
    },
    {
      "cell_type": "code",
      "execution_count": null,
      "metadata": {
        "scrolled": true,
        "id": "liWNkp09D9bY",
        "colab": {
          "base_uri": "https://localhost:8080/"
        },
        "outputId": "906f7c6b-9884-4c77-b4ea-9be5b7db99ad"
      },
      "outputs": [
        {
          "output_type": "stream",
          "name": "stdout",
          "text": [
            "[[1 4 6]\n",
            " [1 4 7]\n",
            " [1 5 6]\n",
            " [1 5 7]\n",
            " [2 4 6]\n",
            " [2 4 7]\n",
            " [2 5 6]\n",
            " [2 5 7]\n",
            " [3 4 6]\n",
            " [3 4 7]\n",
            " [3 5 6]\n",
            " [3 5 7]]\n"
          ]
        }
      ],
      "source": [
        "def cartesian(arrays):\n",
        "    arrays = [np.asarray(a) for a in arrays]\n",
        "    shape = (len(x) for x in arrays)\n",
        "\n",
        "    ix = np.indices(shape, dtype=int)\n",
        "    ix = ix.reshape(len(arrays), -1).T\n",
        "\n",
        "    for n, arr in enumerate(arrays):\n",
        "        ix[:, n] = arrays[n][ix[:, n]]\n",
        "\n",
        "    return ix\n",
        "\n",
        "print (cartesian(([1, 2, 3], [4, 5], [6, 7])))"
      ]
    },
    {
      "cell_type": "markdown",
      "metadata": {
        "id": "EGFIblmBD9bY"
      },
      "source": [
        "#### 91. How to create a record array from a regular array? (★★★) \n",
        "(**hint**: np.core.records.fromarrays)"
      ]
    },
    {
      "cell_type": "code",
      "execution_count": null,
      "metadata": {
        "id": "Co9RD1BKD9bY",
        "colab": {
          "base_uri": "https://localhost:8080/"
        },
        "outputId": "74e78124-70d4-4ba6-8f88-47c5665e8483"
      },
      "outputs": [
        {
          "output_type": "stream",
          "name": "stdout",
          "text": [
            "[(b'Hello', 2.5, 3) (b'World', 3.6, 2)]\n"
          ]
        }
      ],
      "source": [
        "Z = np.array([(\"Hello\", 2.5, 3),\n",
        "              (\"World\", 3.6, 2)])\n",
        "R = np.core.records.fromarrays(Z.T, \n",
        "                               names='col1, col2, col3',\n",
        "                               formats ='S8, f8, i8')\n",
        "print (R)"
      ]
    },
    {
      "cell_type": "markdown",
      "metadata": {
        "id": "bBgt-pAfD9bY"
      },
      "source": [
        "#### 92. Consider a large vector Z, compute Z to the power of 3 using 3 different methods (★★★) \n",
        "(**hint**: np.power, \\*, np.einsum)"
      ]
    },
    {
      "cell_type": "code",
      "execution_count": 7,
      "metadata": {
        "id": "-_IhfSzpD9bZ",
        "colab": {
          "base_uri": "https://localhost:8080/"
        },
        "outputId": "1bf80db4-40b6-4707-a5a9-cc6740e1f569"
      },
      "outputs": [
        {
          "output_type": "execute_result",
          "data": {
            "text/plain": [
              "array([4.63745634e-01, 1.82697572e-01, 1.75320757e-01, ...,\n",
              "       8.74752792e-02, 3.01571024e-04, 5.79482979e-01])"
            ]
          },
          "metadata": {},
          "execution_count": 7
        }
      ],
      "source": [
        "x = np.random.rand(int(5e7))\n",
        "\n",
        "np.power(x,3)\n",
        "x*x*x\n",
        "np.einsum('i,i,i->i',x,x,x)"
      ]
    },
    {
      "cell_type": "markdown",
      "metadata": {
        "id": "Ry2s20kGD9bZ"
      },
      "source": [
        "#### 93. Consider two arrays A and B of shape (8,3) and (2,2). How to find rows of A that contain elements of each row of B regardless of the order of the elements in B? (★★★) \n",
        "(**hint**: np.where)"
      ]
    },
    {
      "cell_type": "code",
      "execution_count": null,
      "metadata": {
        "id": "K7uQhhezD9bZ",
        "colab": {
          "base_uri": "https://localhost:8080/"
        },
        "outputId": "c1113045-4822-4d52-cf4e-729125f3abee"
      },
      "outputs": [
        {
          "output_type": "stream",
          "name": "stdout",
          "text": [
            "[0 1 3 4]\n"
          ]
        }
      ],
      "source": [
        "A = np.random.randint(0,5,(8,3))\n",
        "B = np.random.randint(0,5,(2,2))\n",
        "\n",
        "C = (A[..., np.newaxis, np.newaxis] == B)\n",
        "rows = np.where(C.any((3,1)).all(1))[0]\n",
        "print (rows)"
      ]
    },
    {
      "cell_type": "markdown",
      "metadata": {
        "id": "PTeFC-m0D9bZ"
      },
      "source": [
        "#### 94. Considering a 10x3 matrix, extract rows with unequal values (e.g. \\[2,2,3\\]) (★★★)"
      ]
    },
    {
      "cell_type": "code",
      "execution_count": null,
      "metadata": {
        "id": "jKCnaJU8D9bZ",
        "colab": {
          "base_uri": "https://localhost:8080/"
        },
        "outputId": "22d7ea09-9422-4d70-a02e-157a307de441"
      },
      "outputs": [
        {
          "output_type": "stream",
          "name": "stdout",
          "text": [
            "[[4 1 3]\n",
            " [1 3 4]\n",
            " [0 2 2]\n",
            " [2 3 1]\n",
            " [3 2 0]\n",
            " [2 2 1]\n",
            " [2 4 4]\n",
            " [4 2 0]\n",
            " [2 4 4]\n",
            " [1 2 3]]\n",
            "[[4 1 3]\n",
            " [1 3 4]\n",
            " [0 2 2]\n",
            " [2 3 1]\n",
            " [3 2 0]\n",
            " [2 2 1]\n",
            " [2 4 4]\n",
            " [4 2 0]\n",
            " [2 4 4]\n",
            " [1 2 3]]\n"
          ]
        }
      ],
      "source": [
        "Z = np.random.randint(0,5,(10,3))\n",
        "print (Z)\n",
        "E = np.all(Z[:,1:] == Z[:,:-1], axis=1)\n",
        "U = Z[~E]\n",
        "print (U)"
      ]
    },
    {
      "cell_type": "markdown",
      "metadata": {
        "id": "6zo-I_u5D9bZ"
      },
      "source": [
        "#### 95. Convert a vector of ints into a matrix binary representation (★★★) \n",
        "(**hint**: np.unpackbits)"
      ]
    },
    {
      "cell_type": "code",
      "execution_count": null,
      "metadata": {
        "id": "fYki6LeiD9bZ",
        "colab": {
          "base_uri": "https://localhost:8080/"
        },
        "outputId": "1e7beece-e3f3-4f8b-f961-f453db111031"
      },
      "outputs": [
        {
          "output_type": "stream",
          "name": "stdout",
          "text": [
            "[[0 0 0 0 0 0 0 0]\n",
            " [0 0 0 0 0 0 0 1]\n",
            " [0 0 0 0 0 0 1 0]\n",
            " [0 0 0 0 0 0 1 1]\n",
            " [0 0 0 0 1 1 1 1]\n",
            " [0 0 0 1 0 0 0 0]\n",
            " [0 0 1 0 0 0 0 0]\n",
            " [0 1 0 0 0 0 0 0]\n",
            " [1 0 0 0 0 0 0 0]]\n"
          ]
        }
      ],
      "source": [
        "I = np.array([0, 1, 2, 3, 15, 16, 32, 64, 128])\n",
        "B = ((I.reshape(-1,1) & (2**np.arange(8))) != 0).astype(int)\n",
        "print(B[:,::-1])"
      ]
    },
    {
      "cell_type": "markdown",
      "metadata": {
        "id": "fhvNA9RAD9bZ"
      },
      "source": [
        "#### 96. Given a two dimensional array, how to extract unique rows? (★★★) \n",
        "(**hint**: np.ascontiguousarray)"
      ]
    },
    {
      "cell_type": "code",
      "execution_count": null,
      "metadata": {
        "id": "0KSweLYfD9ba",
        "colab": {
          "base_uri": "https://localhost:8080/"
        },
        "outputId": "4d1c5bb4-794b-480e-fd68-a79f7e6b48c0"
      },
      "outputs": [
        {
          "output_type": "stream",
          "name": "stdout",
          "text": [
            "[[0 0 1]\n",
            " [0 1 0]\n",
            " [1 0 0]\n",
            " [1 1 0]\n",
            " [1 1 1]]\n"
          ]
        }
      ],
      "source": [
        "Z = np.random.randint(0,2,(6,3))\n",
        "T = np.ascontiguousarray(Z).view(np.dtype((np.void, Z.dtype.itemsize * Z.shape[1])))\n",
        "_, idx = np.unique(T, return_index=True)\n",
        "uZ = Z[idx]\n",
        "print (uZ)"
      ]
    },
    {
      "cell_type": "markdown",
      "metadata": {
        "id": "frjnk0BxD9ba"
      },
      "source": [
        "#### 97. Considering 2 vectors A & B, write the einsum equivalent of inner, outer, sum, and mul function (★★★) \n",
        "(**hint**: np.einsum)"
      ]
    },
    {
      "cell_type": "code",
      "execution_count": null,
      "metadata": {
        "id": "hrUotrCAD9ba",
        "colab": {
          "base_uri": "https://localhost:8080/"
        },
        "outputId": "55d32140-743c-47c5-edec-2f0845751847"
      },
      "outputs": [
        {
          "output_type": "stream",
          "name": "stdout",
          "text": [
            "sum\n",
            "4.340134902848268\n",
            "A * B\n",
            "[0.48508674 0.25144551 0.11412747 0.28832199 0.04423921 0.10004164\n",
            " 0.24731735 0.09747325 0.50862857 0.12185205]\n",
            "inner\n",
            "2.2585337720882652\n",
            "outer\n",
            "[[0.48508674 0.18296503 0.24903421 0.58846718 0.25500249 0.47871483\n",
            "  0.21374973 0.21656725 0.61101427 0.19605887]\n",
            " [0.66664587 0.25144551 0.34224318 0.80871973 0.35044528 0.65788908\n",
            "  0.29375237 0.29762443 0.83970579 0.26944013]\n",
            " [0.22230569 0.08384927 0.11412747 0.26968291 0.11686262 0.21938557\n",
            "  0.09795729 0.0992485  0.2800158  0.08984991]\n",
            " [0.23767031 0.08964449 0.12201537 0.28832199 0.12493955 0.23454837\n",
            "  0.10472759 0.10610805 0.29936904 0.09605987]\n",
            " [0.08415547 0.03174176 0.0432038  0.10209046 0.04423921 0.08305003\n",
            "  0.03708246 0.03757126 0.10600206 0.03401335]\n",
            " [0.10137323 0.03823596 0.05204307 0.12297764 0.05329032 0.10004164\n",
            "  0.04466933 0.04525814 0.12768952 0.0409723 ]\n",
            " [0.56126558 0.21169817 0.28814296 0.68088106 0.29504851 0.55389302\n",
            "  0.24731735 0.25057734 0.70696899 0.22684828]\n",
            " [0.21832932 0.08234946 0.11208608 0.2648591  0.1147723  0.21546143\n",
            "  0.09620513 0.09747325 0.27500717 0.08824277]\n",
            " [0.40380231 0.15230617 0.20730435 0.48985962 0.21227254 0.39849812\n",
            "  0.17793238 0.18027777 0.50862857 0.16320591]\n",
            " [0.30148502 0.11371413 0.15477662 0.36573674 0.15848595 0.29752484\n",
            "  0.13284705 0.13459816 0.37974993 0.12185205]]\n"
          ]
        }
      ],
      "source": [
        "A = np.random.uniform(0,1,10)\n",
        "B = np.random.uniform(0,1,10)\n",
        "print ('sum')\n",
        "print (np.einsum('i->', A))# np.sum(A)\n",
        "\n",
        "print ('A * B')\n",
        "print (np.einsum('i,i->i', A, B)) # A * B\n",
        "\n",
        "print ('inner')\n",
        "print (np.einsum('i,i', A, B)) # np.inner(A, B)\n",
        "\n",
        "print ('outer')\n",
        "print (np.einsum('i,j->ij', A, B)) # np.outer(A, B)"
      ]
    },
    {
      "cell_type": "markdown",
      "metadata": {
        "id": "NI388Hg1D9ba"
      },
      "source": [
        "#### 98. Considering a path described by two vectors (X,Y), how to sample it using equidistant samples (★★★)? \n",
        "(**hint**: np.cumsum, np.interp)"
      ]
    },
    {
      "cell_type": "code",
      "execution_count": null,
      "metadata": {
        "collapsed": true,
        "id": "qkZUc4C3D9ba"
      },
      "outputs": [],
      "source": [
        "phi = np.arange(0, 10*np.pi, 0.1)\n",
        "a = 1\n",
        "x = a*phi*np.cos(phi)\n",
        "y = a*phi*np.sin(phi)\n",
        "\n",
        "dr = (np.diff(x)**2 + np.diff(y)**2)**.5 # segment lengths\n",
        "r = np.zeros_like(x)\n",
        "r[1:] = np.cumsum(dr) # integrate path\n",
        "r_int = np.linspace(0, r.max(), 200) # regular spaced path\n",
        "x_int = np.interp(r_int, r, x) # integrate path\n",
        "y_int = np.interp(r_int, r, y)"
      ]
    },
    {
      "cell_type": "markdown",
      "metadata": {
        "id": "-EBXqJTkD9ba"
      },
      "source": [
        "#### 99. Given an integer n and a 2D array X, select from X the rows which can be interpreted as draws from a multinomial distribution with n degrees, i.e., the rows which only contain integers and which sum to n. (★★★) \n",
        "(**hint**: np.logical\\_and.reduce, np.mod)"
      ]
    },
    {
      "cell_type": "code",
      "execution_count": null,
      "metadata": {
        "id": "a5hCQLD7D9ba",
        "colab": {
          "base_uri": "https://localhost:8080/"
        },
        "outputId": "1c25b9ff-315c-47a4-c155-967617a4c120"
      },
      "outputs": [
        {
          "output_type": "stream",
          "name": "stdout",
          "text": [
            "[[2. 0. 1. 1.]]\n"
          ]
        }
      ],
      "source": [
        "X = np.asarray([[1.0, 0.0, 3.0, 8.0],\n",
        "                [2.0, 0.0, 1.0, 1.0],\n",
        "                [1.5, 2.5, 1.0, 0.0]])\n",
        "n = 4\n",
        "M = np.logical_and.reduce(np.mod(X, 1) == 0, axis=-1)\n",
        "M &= (X.sum(axis=-1) == n)\n",
        "print (X[M])\n"
      ]
    },
    {
      "cell_type": "markdown",
      "metadata": {
        "id": "Il_vJNz1D9ba"
      },
      "source": [
        "#### 100. Compute bootstrapped 95% confidence intervals for the mean of a 1D array X (i.e., resample the elements of an array with replacement N times, compute the mean of each sample, and then compute percentiles over the means). (★★★) \n",
        "(**hint**: np.percentile)"
      ]
    },
    {
      "cell_type": "code",
      "execution_count": null,
      "metadata": {
        "id": "ptXcq8umD9bb",
        "colab": {
          "base_uri": "https://localhost:8080/"
        },
        "outputId": "181c582d-f70f-4b6f-f692-9d9ba2da734f"
      },
      "outputs": [
        {
          "output_type": "stream",
          "name": "stdout",
          "text": [
            "[-0.11272825  0.32493849]\n"
          ]
        }
      ],
      "source": [
        "X = np.random.randn(100) # random 1D array\n",
        "N = 1000 # number of bootstrap samples\n",
        "idx = np.random.randint(0, X.size, (N, X.size))\n",
        "means = X[idx].mean(axis=1)\n",
        "confint = np.percentile(means, [2.5, 97.5])\n",
        "print (confint)"
      ]
    }
  ],
  "metadata": {
    "kernelspec": {
      "display_name": "Python 3",
      "language": "python",
      "name": "python3"
    },
    "language_info": {
      "codemirror_mode": {
        "name": "ipython",
        "version": 3
      },
      "file_extension": ".py",
      "mimetype": "text/x-python",
      "name": "python",
      "nbconvert_exporter": "python",
      "pygments_lexer": "ipython3",
      "version": "3.8.3"
    },
    "colab": {
      "name": " Task2_Numpy.ipynb",
      "provenance": [],
      "collapsed_sections": [
        "uB51Q8ZtD9bA",
        "wGkXqWkED9bB",
        "KpUrAGqYD9bB",
        "s8fQL3POD9bC",
        "5K8ALGHOD9bD",
        "HcI7zOsoD9bE",
        "4YjkTZEPD9bE",
        "-68fVQNyD9bE",
        "gbsRQEwgD9bF",
        "rup8CGwLD9bF",
        "znr6QXR1D9bF",
        "do1yKF4kD9bG",
        "Q13z1NSwD9bG",
        "jPBi4kJeD9bG",
        "h1vfc5svD9bH",
        "tlJMYFZoD9bH",
        "wPzfnDgED9bH",
        "vxC0aJcbD9bH",
        "sFbNW9exD9bI",
        "2_NrlP9FD9bI",
        "W0T4kVXCD9bI",
        "aQcNMe22D9bJ",
        "cTorRcQwD9bJ",
        "RdKwGrMKD9bK",
        "HTrlpCYaD9bK",
        "6D665RMaD9bK",
        "nFoRojYND9bL",
        "1vUYUZFsD9bL",
        "boniHkd6D9bL",
        "Mx9pY5CHD9bL",
        "OilHgZ7tD9bM",
        "6Y6QK2nzD9bM",
        "L7h_D0HyD9bM",
        "oZKaapdeD9bN",
        "0qsToIKnD9bN",
        "4T-FY4FsD9bN",
        "xjTCJ51YD9bN",
        "moNyNDVSD9bO",
        "ifvBXQ2ND9bO",
        "ngleRAxmD9bP",
        "9YLBaBZED9bP",
        "8bVbiIlED9bQ",
        "NgN3cR7pD9bR",
        "KxVeahF9D9bR",
        "VA40jltqD9bR",
        "qFg0yrdSD9bT",
        "mpopOhThD9bU",
        "OsOb9c8oD9bU",
        "Ry2s20kGD9bZ",
        "PTeFC-m0D9bZ",
        "6zo-I_u5D9bZ",
        "fhvNA9RAD9bZ",
        "frjnk0BxD9ba",
        "NI388Hg1D9ba",
        "-EBXqJTkD9ba",
        "Il_vJNz1D9ba"
      ],
      "include_colab_link": true
    }
  },
  "nbformat": 4,
  "nbformat_minor": 0
}